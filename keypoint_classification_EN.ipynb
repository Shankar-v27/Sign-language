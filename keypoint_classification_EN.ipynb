{
 "cells": [
  {
   "cell_type": "code",
   "execution_count": 23,
   "metadata": {
    "id": "igMyGnjE9hEp"
   },
   "outputs": [],
   "source": [
    "import csv\n",
    "\n",
    "import numpy as np\n",
    "import tensorflow as tf\n",
    "from sklearn.model_selection import train_test_split\n",
    "\n",
    "RANDOM_SEED = 42"
   ]
  },
  {
   "cell_type": "markdown",
   "metadata": {
    "id": "t2HDvhIu9hEr"
   },
   "source": [
    "# Specify each path"
   ]
  },
  {
   "cell_type": "code",
   "execution_count": 24,
   "metadata": {
    "id": "9NvZP2Zn9hEy"
   },
   "outputs": [],
   "source": [
    "dataset = 'model/keypoint_classifier/keypoint.csv'\n",
    "model_save_path = 'model/keypoint_classifier/keypoint_classifier.hdf5'\n",
    "tflite_save_path = 'model/keypoint_classifier/keypoint_classifier.tflite'"
   ]
  },
  {
   "cell_type": "markdown",
   "metadata": {
    "id": "s5oMH7x19hEz"
   },
   "source": [
    "# Set number of classes"
   ]
  },
  {
   "cell_type": "code",
   "execution_count": 25,
   "metadata": {
    "id": "du4kodXL9hEz"
   },
   "outputs": [],
   "source": [
    "NUM_CLASSES = 9"
   ]
  },
  {
   "cell_type": "markdown",
   "metadata": {
    "id": "XjnL0uso9hEz"
   },
   "source": [
    "# Dataset reading"
   ]
  },
  {
   "cell_type": "code",
   "execution_count": 26,
   "metadata": {
    "id": "QT5ZqtEz9hE0"
   },
   "outputs": [],
   "source": [
    "X_dataset = np.loadtxt(dataset, delimiter=',', dtype='float32', usecols=list(range(1, (21 * 2) + 1)))"
   ]
  },
  {
   "cell_type": "code",
   "execution_count": 27,
   "metadata": {
    "id": "QmoKFsp49hE0"
   },
   "outputs": [],
   "source": [
    "y_dataset = np.loadtxt(dataset, delimiter=',', dtype='int32', usecols=(0))"
   ]
  },
  {
   "cell_type": "code",
   "execution_count": 28,
   "metadata": {
    "id": "xQU7JTZ_9hE0"
   },
   "outputs": [],
   "source": [
    "X_train, X_test, y_train, y_test = train_test_split(X_dataset, y_dataset, train_size=0.75, random_state=RANDOM_SEED)"
   ]
  },
  {
   "cell_type": "markdown",
   "metadata": {
    "id": "mxK_lETT9hE0"
   },
   "source": [
    "# Model building"
   ]
  },
  {
   "cell_type": "code",
   "execution_count": 29,
   "metadata": {
    "id": "vHBmUf1t9hE1"
   },
   "outputs": [],
   "source": [
    "model = tf.keras.models.Sequential([\n",
    "    tf.keras.layers.Input((21 * 2, )),\n",
    "    tf.keras.layers.Dropout(0.2),\n",
    "    tf.keras.layers.Dense(20, activation='relu'),\n",
    "    tf.keras.layers.Dropout(0.4),\n",
    "    tf.keras.layers.Dense(10, activation='relu'),\n",
    "    tf.keras.layers.Dense(NUM_CLASSES, activation='softmax')\n",
    "])"
   ]
  },
  {
   "cell_type": "code",
   "execution_count": 30,
   "metadata": {
    "colab": {
     "base_uri": "https://localhost:8080/"
    },
    "id": "ypqky9tc9hE1",
    "outputId": "5db082bb-30e3-4110-bf63-a1ee777ecd46"
   },
   "outputs": [
    {
     "name": "stdout",
     "output_type": "stream",
     "text": [
      "Model: \"sequential_1\"\n",
      "_________________________________________________________________\n",
      " Layer (type)                Output Shape              Param #   \n",
      "=================================================================\n",
      " dropout_2 (Dropout)         (None, 42)                0         \n",
      "                                                                 \n",
      " dense_3 (Dense)             (None, 20)                860       \n",
      "                                                                 \n",
      " dropout_3 (Dropout)         (None, 20)                0         \n",
      "                                                                 \n",
      " dense_4 (Dense)             (None, 10)                210       \n",
      "                                                                 \n",
      " dense_5 (Dense)             (None, 9)                 99        \n",
      "                                                                 \n",
      "=================================================================\n",
      "Total params: 1169 (4.57 KB)\n",
      "Trainable params: 1169 (4.57 KB)\n",
      "Non-trainable params: 0 (0.00 Byte)\n",
      "_________________________________________________________________\n"
     ]
    }
   ],
   "source": [
    "model.summary()  # tf.keras.utils.plot_model(model, show_shapes=True)"
   ]
  },
  {
   "cell_type": "code",
   "execution_count": 31,
   "metadata": {
    "id": "MbMjOflQ9hE1"
   },
   "outputs": [],
   "source": [
    "# Model checkpoint callback\n",
    "cp_callback = tf.keras.callbacks.ModelCheckpoint(\n",
    "    model_save_path, verbose=1, save_weights_only=False)\n",
    "# Callback for early stopping\n",
    "es_callback = tf.keras.callbacks.EarlyStopping(patience=20, verbose=1)"
   ]
  },
  {
   "cell_type": "code",
   "execution_count": 32,
   "metadata": {
    "id": "c3Dac0M_9hE2"
   },
   "outputs": [],
   "source": [
    "# Model compilation\n",
    "model.compile(\n",
    "    optimizer='adam',\n",
    "    loss='sparse_categorical_crossentropy',\n",
    "    metrics=['accuracy']\n",
    ")"
   ]
  },
  {
   "cell_type": "markdown",
   "metadata": {
    "id": "7XI0j1Iu9hE2"
   },
   "source": [
    "# Model training"
   ]
  },
  {
   "cell_type": "code",
   "execution_count": 33,
   "metadata": {
    "colab": {
     "base_uri": "https://localhost:8080/"
    },
    "id": "WirBl-JE9hE3",
    "outputId": "71b30ca2-8294-4d9d-8aa2-800d90d399de",
    "scrolled": true
   },
   "outputs": [
    {
     "name": "stdout",
     "output_type": "stream",
     "text": [
      "Epoch 1/1000\n",
      "33/37 [=========================>....] - ETA: 0s - loss: 2.1298 - accuracy: 0.1842\n",
      "Epoch 1: saving model to model/keypoint_classifier\\keypoint_classifier.hdf5\n",
      "37/37 [==============================] - 3s 26ms/step - loss: 2.1206 - accuracy: 0.1902 - val_loss: 2.0459 - val_accuracy: 0.2722\n",
      "Epoch 2/1000\n",
      "17/37 [============>.................] - ETA: 0s - loss: 2.0274 - accuracy: 0.2468"
     ]
    },
    {
     "name": "stderr",
     "output_type": "stream",
     "text": [
      "C:\\Users\\V.Sarveshwaran\\AppData\\Local\\Programs\\Python\\Python310\\lib\\site-packages\\keras\\src\\engine\\training.py:3079: UserWarning: You are saving your model as an HDF5 file via `model.save()`. This file format is considered legacy. We recommend using instead the native Keras format, e.g. `model.save('my_model.keras')`.\n",
      "  saving_api.save_model(\n"
     ]
    },
    {
     "name": "stdout",
     "output_type": "stream",
     "text": [
      "33/37 [=========================>....] - ETA: 0s - loss: 2.0003 - accuracy: 0.2550\n",
      "Epoch 2: saving model to model/keypoint_classifier\\keypoint_classifier.hdf5\n",
      "37/37 [==============================] - 0s 13ms/step - loss: 1.9943 - accuracy: 0.2580 - val_loss: 1.9192 - val_accuracy: 0.2484\n",
      "Epoch 3/1000\n",
      "37/37 [==============================] - ETA: 0s - loss: 1.8565 - accuracy: 0.2895\n",
      "Epoch 3: saving model to model/keypoint_classifier\\keypoint_classifier.hdf5\n",
      "37/37 [==============================] - 1s 15ms/step - loss: 1.8565 - accuracy: 0.2895 - val_loss: 1.7168 - val_accuracy: 0.4131\n",
      "Epoch 4/1000\n",
      "33/37 [=========================>....] - ETA: 0s - loss: 1.7251 - accuracy: 0.3364\n",
      "Epoch 4: saving model to model/keypoint_classifier\\keypoint_classifier.hdf5\n",
      "37/37 [==============================] - 0s 12ms/step - loss: 1.7192 - accuracy: 0.3402 - val_loss: 1.5747 - val_accuracy: 0.4730\n",
      "Epoch 5/1000\n",
      "33/37 [=========================>....] - ETA: 0s - loss: 1.6442 - accuracy: 0.3589\n",
      "Epoch 5: saving model to model/keypoint_classifier\\keypoint_classifier.hdf5\n",
      "37/37 [==============================] - 0s 12ms/step - loss: 1.6350 - accuracy: 0.3627 - val_loss: 1.4820 - val_accuracy: 0.4813\n",
      "Epoch 6/1000\n",
      "33/37 [=========================>....] - ETA: 0s - loss: 1.5620 - accuracy: 0.3849\n",
      "Epoch 6: saving model to model/keypoint_classifier\\keypoint_classifier.hdf5\n",
      "37/37 [==============================] - 0s 12ms/step - loss: 1.5649 - accuracy: 0.3851 - val_loss: 1.4100 - val_accuracy: 0.4884\n",
      "Epoch 7/1000\n",
      "33/37 [=========================>....] - ETA: 0s - loss: 1.5318 - accuracy: 0.3923\n",
      "Epoch 7: saving model to model/keypoint_classifier\\keypoint_classifier.hdf5\n",
      "37/37 [==============================] - 0s 12ms/step - loss: 1.5268 - accuracy: 0.3921 - val_loss: 1.3511 - val_accuracy: 0.4968\n",
      "Epoch 8/1000\n",
      "33/37 [=========================>....] - ETA: 0s - loss: 1.4817 - accuracy: 0.4119\n",
      "Epoch 8: saving model to model/keypoint_classifier\\keypoint_classifier.hdf5\n",
      "37/37 [==============================] - 0s 12ms/step - loss: 1.4798 - accuracy: 0.4143 - val_loss: 1.3031 - val_accuracy: 0.5051\n",
      "Epoch 9/1000\n",
      "33/37 [=========================>....] - ETA: 0s - loss: 1.4378 - accuracy: 0.4285\n",
      "Epoch 9: saving model to model/keypoint_classifier\\keypoint_classifier.hdf5\n",
      "37/37 [==============================] - 0s 12ms/step - loss: 1.4369 - accuracy: 0.4273 - val_loss: 1.2486 - val_accuracy: 0.4987\n",
      "Epoch 10/1000\n",
      "33/37 [=========================>....] - ETA: 0s - loss: 1.4181 - accuracy: 0.4413\n",
      "Epoch 10: saving model to model/keypoint_classifier\\keypoint_classifier.hdf5\n",
      "37/37 [==============================] - 1s 14ms/step - loss: 1.4222 - accuracy: 0.4400 - val_loss: 1.2115 - val_accuracy: 0.5026\n",
      "Epoch 11/1000\n",
      "34/37 [==========================>...] - ETA: 0s - loss: 1.3906 - accuracy: 0.4359\n",
      "Epoch 11: saving model to model/keypoint_classifier\\keypoint_classifier.hdf5\n",
      "37/37 [==============================] - 0s 12ms/step - loss: 1.3829 - accuracy: 0.4402 - val_loss: 1.1703 - val_accuracy: 0.5109\n",
      "Epoch 12/1000\n",
      "33/37 [=========================>....] - ETA: 0s - loss: 1.3607 - accuracy: 0.4460\n",
      "Epoch 12: saving model to model/keypoint_classifier\\keypoint_classifier.hdf5\n",
      "37/37 [==============================] - 0s 12ms/step - loss: 1.3606 - accuracy: 0.4454 - val_loss: 1.1310 - val_accuracy: 0.5335\n",
      "Epoch 13/1000\n",
      "35/37 [===========================>..] - ETA: 0s - loss: 1.3235 - accuracy: 0.4587\n",
      "Epoch 13: saving model to model/keypoint_classifier\\keypoint_classifier.hdf5\n",
      "37/37 [==============================] - 0s 12ms/step - loss: 1.3242 - accuracy: 0.4585 - val_loss: 1.0889 - val_accuracy: 0.5483\n",
      "Epoch 14/1000\n",
      "33/37 [=========================>....] - ETA: 0s - loss: 1.3029 - accuracy: 0.4600\n",
      "Epoch 14: saving model to model/keypoint_classifier\\keypoint_classifier.hdf5\n",
      "37/37 [==============================] - 0s 12ms/step - loss: 1.3020 - accuracy: 0.4602 - val_loss: 1.0548 - val_accuracy: 0.5940\n",
      "Epoch 15/1000\n",
      "33/37 [=========================>....] - ETA: 0s - loss: 1.2703 - accuracy: 0.4825\n",
      "Epoch 15: saving model to model/keypoint_classifier\\keypoint_classifier.hdf5\n",
      "37/37 [==============================] - 0s 12ms/step - loss: 1.2739 - accuracy: 0.4791 - val_loss: 1.0176 - val_accuracy: 0.6441\n",
      "Epoch 16/1000\n",
      "34/37 [==========================>...] - ETA: 0s - loss: 1.2559 - accuracy: 0.4883\n",
      "Epoch 16: saving model to model/keypoint_classifier\\keypoint_classifier.hdf5\n",
      "37/37 [==============================] - 0s 12ms/step - loss: 1.2511 - accuracy: 0.4896 - val_loss: 0.9895 - val_accuracy: 0.6692\n",
      "Epoch 17/1000\n",
      "33/37 [=========================>....] - ETA: 0s - loss: 1.2506 - accuracy: 0.5043\n",
      "Epoch 17: saving model to model/keypoint_classifier\\keypoint_classifier.hdf5\n",
      "37/37 [==============================] - 0s 13ms/step - loss: 1.2410 - accuracy: 0.5059 - val_loss: 0.9682 - val_accuracy: 0.6873\n",
      "Epoch 18/1000\n",
      "33/37 [=========================>....] - ETA: 0s - loss: 1.2283 - accuracy: 0.5140\n",
      "Epoch 18: saving model to model/keypoint_classifier\\keypoint_classifier.hdf5\n",
      "37/37 [==============================] - 0s 12ms/step - loss: 1.2227 - accuracy: 0.5173 - val_loss: 0.9352 - val_accuracy: 0.7181\n",
      "Epoch 19/1000\n",
      "34/37 [==========================>...] - ETA: 0s - loss: 1.2083 - accuracy: 0.5175\n",
      "Epoch 19: saving model to model/keypoint_classifier\\keypoint_classifier.hdf5\n",
      "37/37 [==============================] - 0s 12ms/step - loss: 1.2044 - accuracy: 0.5201 - val_loss: 0.9090 - val_accuracy: 0.7252\n",
      "Epoch 20/1000\n",
      "35/37 [===========================>..] - ETA: 0s - loss: 1.1794 - accuracy: 0.5254\n",
      "Epoch 20: saving model to model/keypoint_classifier\\keypoint_classifier.hdf5\n",
      "37/37 [==============================] - 0s 12ms/step - loss: 1.1825 - accuracy: 0.5237 - val_loss: 0.8827 - val_accuracy: 0.7252\n",
      "Epoch 21/1000\n",
      "33/37 [=========================>....] - ETA: 0s - loss: 1.1581 - accuracy: 0.5327\n",
      "Epoch 21: saving model to model/keypoint_classifier\\keypoint_classifier.hdf5\n",
      "37/37 [==============================] - 0s 13ms/step - loss: 1.1653 - accuracy: 0.5302 - val_loss: 0.8654 - val_accuracy: 0.7471\n",
      "Epoch 22/1000\n",
      "36/37 [============================>.] - ETA: 0s - loss: 1.1488 - accuracy: 0.5488\n",
      "Epoch 22: saving model to model/keypoint_classifier\\keypoint_classifier.hdf5\n",
      "37/37 [==============================] - 0s 13ms/step - loss: 1.1492 - accuracy: 0.5480 - val_loss: 0.8445 - val_accuracy: 0.7574\n",
      "Epoch 23/1000\n",
      "33/37 [=========================>....] - ETA: 0s - loss: 1.1492 - accuracy: 0.5402\n",
      "Epoch 23: saving model to model/keypoint_classifier\\keypoint_classifier.hdf5\n",
      "37/37 [==============================] - 0s 12ms/step - loss: 1.1529 - accuracy: 0.5390 - val_loss: 0.8311 - val_accuracy: 0.7735\n",
      "Epoch 24/1000\n",
      "35/37 [===========================>..] - ETA: 0s - loss: 1.1295 - accuracy: 0.5605\n",
      "Epoch 24: saving model to model/keypoint_classifier\\keypoint_classifier.hdf5\n",
      "37/37 [==============================] - 0s 12ms/step - loss: 1.1311 - accuracy: 0.5593 - val_loss: 0.8162 - val_accuracy: 0.7645\n",
      "Epoch 25/1000\n",
      "33/37 [=========================>....] - ETA: 0s - loss: 1.1272 - accuracy: 0.5507\n",
      "Epoch 25: saving model to model/keypoint_classifier\\keypoint_classifier.hdf5\n",
      "37/37 [==============================] - 0s 12ms/step - loss: 1.1263 - accuracy: 0.5542 - val_loss: 0.8047 - val_accuracy: 0.7703\n",
      "Epoch 26/1000\n",
      "35/37 [===========================>..] - ETA: 0s - loss: 1.0924 - accuracy: 0.5656\n",
      "Epoch 26: saving model to model/keypoint_classifier\\keypoint_classifier.hdf5\n",
      "37/37 [==============================] - 0s 11ms/step - loss: 1.0927 - accuracy: 0.5675 - val_loss: 0.7842 - val_accuracy: 0.7722\n",
      "Epoch 27/1000\n",
      "34/37 [==========================>...] - ETA: 0s - loss: 1.0859 - accuracy: 0.5788\n",
      "Epoch 27: saving model to model/keypoint_classifier\\keypoint_classifier.hdf5\n",
      "37/37 [==============================] - 0s 12ms/step - loss: 1.0842 - accuracy: 0.5791 - val_loss: 0.7781 - val_accuracy: 0.7741\n",
      "Epoch 28/1000\n",
      "34/37 [==========================>...] - ETA: 0s - loss: 1.1035 - accuracy: 0.5512\n",
      "Epoch 28: saving model to model/keypoint_classifier\\keypoint_classifier.hdf5\n",
      "37/37 [==============================] - 0s 12ms/step - loss: 1.0993 - accuracy: 0.5538 - val_loss: 0.7677 - val_accuracy: 0.7806\n",
      "Epoch 29/1000\n",
      "33/37 [=========================>....] - ETA: 0s - loss: 1.0743 - accuracy: 0.5765\n",
      "Epoch 29: saving model to model/keypoint_classifier\\keypoint_classifier.hdf5\n",
      "37/37 [==============================] - 0s 12ms/step - loss: 1.0789 - accuracy: 0.5733 - val_loss: 0.7473 - val_accuracy: 0.7799\n",
      "Epoch 30/1000\n",
      "33/37 [=========================>....] - ETA: 0s - loss: 1.0891 - accuracy: 0.5668\n",
      "Epoch 30: saving model to model/keypoint_classifier\\keypoint_classifier.hdf5\n",
      "37/37 [==============================] - 0s 12ms/step - loss: 1.0861 - accuracy: 0.5692 - val_loss: 0.7424 - val_accuracy: 0.7851\n",
      "Epoch 31/1000\n",
      "33/37 [=========================>....] - ETA: 0s - loss: 1.0693 - accuracy: 0.5788\n",
      "Epoch 31: saving model to model/keypoint_classifier\\keypoint_classifier.hdf5\n",
      "37/37 [==============================] - 0s 12ms/step - loss: 1.0623 - accuracy: 0.5834 - val_loss: 0.7287 - val_accuracy: 0.7896\n",
      "Epoch 32/1000\n",
      "34/37 [==========================>...] - ETA: 0s - loss: 1.0598 - accuracy: 0.5823\n",
      "Epoch 32: saving model to model/keypoint_classifier\\keypoint_classifier.hdf5\n",
      "37/37 [==============================] - 0s 12ms/step - loss: 1.0599 - accuracy: 0.5825 - val_loss: 0.7154 - val_accuracy: 0.7921\n",
      "Epoch 33/1000\n",
      "34/37 [==========================>...] - ETA: 0s - loss: 1.0520 - accuracy: 0.5887\n",
      "Epoch 33: saving model to model/keypoint_classifier\\keypoint_classifier.hdf5\n",
      "37/37 [==============================] - 0s 12ms/step - loss: 1.0554 - accuracy: 0.5838 - val_loss: 0.7094 - val_accuracy: 0.7934\n",
      "Epoch 34/1000\n",
      "33/37 [=========================>....] - ETA: 0s - loss: 1.0639 - accuracy: 0.5675\n",
      "Epoch 34: saving model to model/keypoint_classifier\\keypoint_classifier.hdf5\n",
      "37/37 [==============================] - 0s 13ms/step - loss: 1.0684 - accuracy: 0.5677 - val_loss: 0.7037 - val_accuracy: 0.7870\n",
      "Epoch 35/1000\n",
      "33/37 [=========================>....] - ETA: 0s - loss: 1.0388 - accuracy: 0.5975\n",
      "Epoch 35: saving model to model/keypoint_classifier\\keypoint_classifier.hdf5\n",
      "37/37 [==============================] - 0s 12ms/step - loss: 1.0391 - accuracy: 0.5963 - val_loss: 0.6876 - val_accuracy: 0.8127\n",
      "Epoch 36/1000\n",
      "33/37 [=========================>....] - ETA: 0s - loss: 1.0267 - accuracy: 0.5971\n",
      "Epoch 36: saving model to model/keypoint_classifier\\keypoint_classifier.hdf5\n",
      "37/37 [==============================] - 0s 12ms/step - loss: 1.0266 - accuracy: 0.5982 - val_loss: 0.6834 - val_accuracy: 0.8140\n",
      "Epoch 37/1000\n",
      "33/37 [=========================>....] - ETA: 0s - loss: 1.0230 - accuracy: 0.5982\n",
      "Epoch 37: saving model to model/keypoint_classifier\\keypoint_classifier.hdf5\n",
      "37/37 [==============================] - 0s 13ms/step - loss: 1.0254 - accuracy: 0.6003 - val_loss: 0.6722 - val_accuracy: 0.8172\n",
      "Epoch 38/1000\n",
      "33/37 [=========================>....] - ETA: 0s - loss: 1.0205 - accuracy: 0.5964\n",
      "Epoch 38: saving model to model/keypoint_classifier\\keypoint_classifier.hdf5\n",
      "37/37 [==============================] - 0s 12ms/step - loss: 1.0198 - accuracy: 0.5969 - val_loss: 0.6645 - val_accuracy: 0.8192\n",
      "Epoch 39/1000\n",
      "33/37 [=========================>....] - ETA: 0s - loss: 1.0101 - accuracy: 0.5982\n",
      "Epoch 39: saving model to model/keypoint_classifier\\keypoint_classifier.hdf5\n",
      "37/37 [==============================] - 0s 12ms/step - loss: 1.0105 - accuracy: 0.5986 - val_loss: 0.6552 - val_accuracy: 0.8263\n",
      "Epoch 40/1000\n",
      "34/37 [==========================>...] - ETA: 0s - loss: 1.0168 - accuracy: 0.6098\n",
      "Epoch 40: saving model to model/keypoint_classifier\\keypoint_classifier.hdf5\n",
      "37/37 [==============================] - 0s 12ms/step - loss: 1.0191 - accuracy: 0.6074 - val_loss: 0.6457 - val_accuracy: 0.8243\n",
      "Epoch 41/1000\n",
      "34/37 [==========================>...] - ETA: 0s - loss: 0.9988 - accuracy: 0.6158\n",
      "Epoch 41: saving model to model/keypoint_classifier\\keypoint_classifier.hdf5\n",
      "37/37 [==============================] - 0s 12ms/step - loss: 1.0033 - accuracy: 0.6139 - val_loss: 0.6428 - val_accuracy: 0.8320\n",
      "Epoch 42/1000\n",
      "34/37 [==========================>...] - ETA: 0s - loss: 0.9919 - accuracy: 0.6108\n",
      "Epoch 42: saving model to model/keypoint_classifier\\keypoint_classifier.hdf5\n",
      "37/37 [==============================] - 0s 12ms/step - loss: 0.9878 - accuracy: 0.6134 - val_loss: 0.6290 - val_accuracy: 0.8288\n",
      "Epoch 43/1000\n",
      "34/37 [==========================>...] - ETA: 0s - loss: 0.9873 - accuracy: 0.6158\n",
      "Epoch 43: saving model to model/keypoint_classifier\\keypoint_classifier.hdf5\n",
      "37/37 [==============================] - 0s 12ms/step - loss: 0.9883 - accuracy: 0.6152 - val_loss: 0.6214 - val_accuracy: 0.8269\n",
      "Epoch 44/1000\n",
      "33/37 [=========================>....] - ETA: 0s - loss: 0.9588 - accuracy: 0.6349\n",
      "Epoch 44: saving model to model/keypoint_classifier\\keypoint_classifier.hdf5\n",
      "37/37 [==============================] - 0s 12ms/step - loss: 0.9648 - accuracy: 0.6321 - val_loss: 0.6156 - val_accuracy: 0.8411\n",
      "Epoch 45/1000\n",
      "33/37 [=========================>....] - ETA: 0s - loss: 0.9790 - accuracy: 0.6255\n",
      "Epoch 45: saving model to model/keypoint_classifier\\keypoint_classifier.hdf5\n",
      "37/37 [==============================] - 0s 12ms/step - loss: 0.9756 - accuracy: 0.6246 - val_loss: 0.6123 - val_accuracy: 0.8378\n",
      "Epoch 46/1000\n",
      "34/37 [==========================>...] - ETA: 0s - loss: 0.9538 - accuracy: 0.6326\n",
      "Epoch 46: saving model to model/keypoint_classifier\\keypoint_classifier.hdf5\n",
      "37/37 [==============================] - 0s 12ms/step - loss: 0.9517 - accuracy: 0.6343 - val_loss: 0.6040 - val_accuracy: 0.8430\n",
      "Epoch 47/1000\n",
      "33/37 [=========================>....] - ETA: 0s - loss: 0.9673 - accuracy: 0.6278\n",
      "Epoch 47: saving model to model/keypoint_classifier\\keypoint_classifier.hdf5\n",
      "37/37 [==============================] - 0s 12ms/step - loss: 0.9710 - accuracy: 0.6265 - val_loss: 0.5967 - val_accuracy: 0.8423\n",
      "Epoch 48/1000\n",
      "35/37 [===========================>..] - ETA: 0s - loss: 0.9535 - accuracy: 0.6328\n",
      "Epoch 48: saving model to model/keypoint_classifier\\keypoint_classifier.hdf5\n",
      "37/37 [==============================] - 0s 12ms/step - loss: 0.9500 - accuracy: 0.6336 - val_loss: 0.5852 - val_accuracy: 0.8526\n",
      "Epoch 49/1000\n",
      "33/37 [=========================>....] - ETA: 0s - loss: 0.9608 - accuracy: 0.6328\n",
      "Epoch 49: saving model to model/keypoint_classifier\\keypoint_classifier.hdf5\n",
      "37/37 [==============================] - 0s 12ms/step - loss: 0.9574 - accuracy: 0.6328 - val_loss: 0.5884 - val_accuracy: 0.8456\n",
      "Epoch 50/1000\n",
      "35/37 [===========================>..] - ETA: 0s - loss: 0.9668 - accuracy: 0.6225\n",
      "Epoch 50: saving model to model/keypoint_classifier\\keypoint_classifier.hdf5\n",
      "37/37 [==============================] - 0s 12ms/step - loss: 0.9653 - accuracy: 0.6227 - val_loss: 0.5813 - val_accuracy: 0.8430\n",
      "Epoch 51/1000\n",
      "33/37 [=========================>....] - ETA: 0s - loss: 0.9585 - accuracy: 0.6378\n",
      "Epoch 51: saving model to model/keypoint_classifier\\keypoint_classifier.hdf5\n",
      "37/37 [==============================] - 0s 12ms/step - loss: 0.9571 - accuracy: 0.6373 - val_loss: 0.5872 - val_accuracy: 0.8443\n",
      "Epoch 52/1000\n",
      "33/37 [=========================>....] - ETA: 0s - loss: 0.9444 - accuracy: 0.6335\n",
      "Epoch 52: saving model to model/keypoint_classifier\\keypoint_classifier.hdf5\n",
      "37/37 [==============================] - 0s 12ms/step - loss: 0.9425 - accuracy: 0.6343 - val_loss: 0.5753 - val_accuracy: 0.8597\n",
      "Epoch 53/1000\n",
      "33/37 [=========================>....] - ETA: 0s - loss: 0.9447 - accuracy: 0.6375\n",
      "Epoch 53: saving model to model/keypoint_classifier\\keypoint_classifier.hdf5\n",
      "37/37 [==============================] - 0s 12ms/step - loss: 0.9448 - accuracy: 0.6351 - val_loss: 0.5702 - val_accuracy: 0.8475\n",
      "Epoch 54/1000\n",
      "33/37 [=========================>....] - ETA: 0s - loss: 0.9365 - accuracy: 0.6454\n",
      "Epoch 54: saving model to model/keypoint_classifier\\keypoint_classifier.hdf5\n",
      "37/37 [==============================] - 0s 12ms/step - loss: 0.9357 - accuracy: 0.6456 - val_loss: 0.5603 - val_accuracy: 0.8629\n",
      "Epoch 55/1000\n",
      "35/37 [===========================>..] - ETA: 0s - loss: 0.9428 - accuracy: 0.6306\n",
      "Epoch 55: saving model to model/keypoint_classifier\\keypoint_classifier.hdf5\n",
      "37/37 [==============================] - 0s 12ms/step - loss: 0.9419 - accuracy: 0.6317 - val_loss: 0.5589 - val_accuracy: 0.8668\n",
      "Epoch 56/1000\n",
      "34/37 [==========================>...] - ETA: 0s - loss: 0.9516 - accuracy: 0.6347\n",
      "Epoch 56: saving model to model/keypoint_classifier\\keypoint_classifier.hdf5\n",
      "37/37 [==============================] - 0s 13ms/step - loss: 0.9483 - accuracy: 0.6358 - val_loss: 0.5576 - val_accuracy: 0.8559\n",
      "Epoch 57/1000\n",
      "30/37 [=======================>......] - ETA: 0s - loss: 0.9396 - accuracy: 0.6419\n",
      "Epoch 57: saving model to model/keypoint_classifier\\keypoint_classifier.hdf5\n",
      "37/37 [==============================] - 0s 14ms/step - loss: 0.9407 - accuracy: 0.6418 - val_loss: 0.5514 - val_accuracy: 0.8552\n",
      "Epoch 58/1000\n",
      "33/37 [=========================>....] - ETA: 0s - loss: 0.9121 - accuracy: 0.6484\n",
      "Epoch 58: saving model to model/keypoint_classifier\\keypoint_classifier.hdf5\n",
      "37/37 [==============================] - 0s 12ms/step - loss: 0.9220 - accuracy: 0.6463 - val_loss: 0.5504 - val_accuracy: 0.8533\n",
      "Epoch 59/1000\n",
      "34/37 [==========================>...] - ETA: 0s - loss: 0.9166 - accuracy: 0.6443\n",
      "Epoch 59: saving model to model/keypoint_classifier\\keypoint_classifier.hdf5\n",
      "37/37 [==============================] - 0s 12ms/step - loss: 0.9134 - accuracy: 0.6443 - val_loss: 0.5400 - val_accuracy: 0.8707\n",
      "Epoch 60/1000\n",
      "34/37 [==========================>...] - ETA: 0s - loss: 0.9197 - accuracy: 0.6517\n",
      "Epoch 60: saving model to model/keypoint_classifier\\keypoint_classifier.hdf5\n",
      "37/37 [==============================] - 0s 12ms/step - loss: 0.9175 - accuracy: 0.6525 - val_loss: 0.5374 - val_accuracy: 0.8610\n",
      "Epoch 61/1000\n",
      "37/37 [==============================] - ETA: 0s - loss: 0.9317 - accuracy: 0.6405\n",
      "Epoch 61: saving model to model/keypoint_classifier\\keypoint_classifier.hdf5\n",
      "37/37 [==============================] - 0s 12ms/step - loss: 0.9317 - accuracy: 0.6405 - val_loss: 0.5311 - val_accuracy: 0.8681\n",
      "Epoch 62/1000\n",
      "33/37 [=========================>....] - ETA: 0s - loss: 0.9288 - accuracy: 0.6489\n",
      "Epoch 62: saving model to model/keypoint_classifier\\keypoint_classifier.hdf5\n",
      "37/37 [==============================] - 0s 12ms/step - loss: 0.9266 - accuracy: 0.6512 - val_loss: 0.5366 - val_accuracy: 0.8655\n",
      "Epoch 63/1000\n",
      "34/37 [==========================>...] - ETA: 0s - loss: 0.9253 - accuracy: 0.6482\n",
      "Epoch 63: saving model to model/keypoint_classifier\\keypoint_classifier.hdf5\n",
      "37/37 [==============================] - 0s 12ms/step - loss: 0.9238 - accuracy: 0.6484 - val_loss: 0.5318 - val_accuracy: 0.8552\n",
      "Epoch 64/1000\n",
      "33/37 [=========================>....] - ETA: 0s - loss: 0.9257 - accuracy: 0.6437\n",
      "Epoch 64: saving model to model/keypoint_classifier\\keypoint_classifier.hdf5\n",
      "37/37 [==============================] - 0s 12ms/step - loss: 0.9271 - accuracy: 0.6422 - val_loss: 0.5267 - val_accuracy: 0.8629\n",
      "Epoch 65/1000\n",
      "33/37 [=========================>....] - ETA: 0s - loss: 0.9215 - accuracy: 0.6446\n",
      "Epoch 65: saving model to model/keypoint_classifier\\keypoint_classifier.hdf5\n",
      "37/37 [==============================] - 0s 12ms/step - loss: 0.9283 - accuracy: 0.6446 - val_loss: 0.5267 - val_accuracy: 0.8649\n",
      "Epoch 66/1000\n",
      "34/37 [==========================>...] - ETA: 0s - loss: 0.9136 - accuracy: 0.6537\n",
      "Epoch 66: saving model to model/keypoint_classifier\\keypoint_classifier.hdf5\n",
      "37/37 [==============================] - 0s 12ms/step - loss: 0.9135 - accuracy: 0.6525 - val_loss: 0.5242 - val_accuracy: 0.8642\n",
      "Epoch 67/1000\n",
      "33/37 [=========================>....] - ETA: 0s - loss: 0.8966 - accuracy: 0.6529\n",
      "Epoch 67: saving model to model/keypoint_classifier\\keypoint_classifier.hdf5\n",
      "37/37 [==============================] - 0s 12ms/step - loss: 0.8986 - accuracy: 0.6510 - val_loss: 0.5181 - val_accuracy: 0.8623\n",
      "Epoch 68/1000\n",
      "33/37 [=========================>....] - ETA: 0s - loss: 0.9088 - accuracy: 0.6558\n",
      "Epoch 68: saving model to model/keypoint_classifier\\keypoint_classifier.hdf5\n",
      "37/37 [==============================] - 0s 12ms/step - loss: 0.9059 - accuracy: 0.6570 - val_loss: 0.5166 - val_accuracy: 0.8668\n",
      "Epoch 69/1000\n",
      "33/37 [=========================>....] - ETA: 0s - loss: 0.8988 - accuracy: 0.6598\n",
      "Epoch 69: saving model to model/keypoint_classifier\\keypoint_classifier.hdf5\n",
      "37/37 [==============================] - 0s 12ms/step - loss: 0.9042 - accuracy: 0.6615 - val_loss: 0.5124 - val_accuracy: 0.8700\n",
      "Epoch 70/1000\n",
      "33/37 [=========================>....] - ETA: 0s - loss: 0.9024 - accuracy: 0.6567\n",
      "Epoch 70: saving model to model/keypoint_classifier\\keypoint_classifier.hdf5\n",
      "37/37 [==============================] - 0s 12ms/step - loss: 0.9052 - accuracy: 0.6561 - val_loss: 0.5139 - val_accuracy: 0.8707\n",
      "Epoch 71/1000\n",
      "35/37 [===========================>..] - ETA: 0s - loss: 0.8974 - accuracy: 0.6540\n",
      "Epoch 71: saving model to model/keypoint_classifier\\keypoint_classifier.hdf5\n",
      "37/37 [==============================] - 0s 11ms/step - loss: 0.8979 - accuracy: 0.6551 - val_loss: 0.5059 - val_accuracy: 0.8726\n",
      "Epoch 72/1000\n",
      "34/37 [==========================>...] - ETA: 0s - loss: 0.9038 - accuracy: 0.6588\n",
      "Epoch 72: saving model to model/keypoint_classifier\\keypoint_classifier.hdf5\n",
      "37/37 [==============================] - 1s 15ms/step - loss: 0.9053 - accuracy: 0.6585 - val_loss: 0.5118 - val_accuracy: 0.8662\n",
      "Epoch 73/1000\n",
      "33/37 [=========================>....] - ETA: 0s - loss: 0.8836 - accuracy: 0.6655\n",
      "Epoch 73: saving model to model/keypoint_classifier\\keypoint_classifier.hdf5\n",
      "37/37 [==============================] - 0s 12ms/step - loss: 0.8941 - accuracy: 0.6622 - val_loss: 0.4992 - val_accuracy: 0.8797\n",
      "Epoch 74/1000\n",
      "34/37 [==========================>...] - ETA: 0s - loss: 0.8921 - accuracy: 0.6634\n",
      "Epoch 74: saving model to model/keypoint_classifier\\keypoint_classifier.hdf5\n",
      "37/37 [==============================] - 0s 12ms/step - loss: 0.8882 - accuracy: 0.6660 - val_loss: 0.5071 - val_accuracy: 0.8584\n",
      "Epoch 75/1000\n",
      "33/37 [=========================>....] - ETA: 0s - loss: 0.8958 - accuracy: 0.6560\n",
      "Epoch 75: saving model to model/keypoint_classifier\\keypoint_classifier.hdf5\n",
      "37/37 [==============================] - 0s 12ms/step - loss: 0.8930 - accuracy: 0.6600 - val_loss: 0.4995 - val_accuracy: 0.8752\n",
      "Epoch 76/1000\n",
      "33/37 [=========================>....] - ETA: 0s - loss: 0.8921 - accuracy: 0.6738\n",
      "Epoch 76: saving model to model/keypoint_classifier\\keypoint_classifier.hdf5\n",
      "37/37 [==============================] - 0s 12ms/step - loss: 0.8865 - accuracy: 0.6735 - val_loss: 0.5019 - val_accuracy: 0.8655\n",
      "Epoch 77/1000\n",
      "34/37 [==========================>...] - ETA: 0s - loss: 0.8786 - accuracy: 0.6627\n",
      "Epoch 77: saving model to model/keypoint_classifier\\keypoint_classifier.hdf5\n",
      "37/37 [==============================] - 0s 12ms/step - loss: 0.8798 - accuracy: 0.6624 - val_loss: 0.4857 - val_accuracy: 0.8790\n",
      "Epoch 78/1000\n",
      "33/37 [=========================>....] - ETA: 0s - loss: 0.8875 - accuracy: 0.6629\n",
      "Epoch 78: saving model to model/keypoint_classifier\\keypoint_classifier.hdf5\n",
      "37/37 [==============================] - 0s 13ms/step - loss: 0.8776 - accuracy: 0.6658 - val_loss: 0.4941 - val_accuracy: 0.8674\n",
      "Epoch 79/1000\n",
      "33/37 [=========================>....] - ETA: 0s - loss: 0.8809 - accuracy: 0.6607\n",
      "Epoch 79: saving model to model/keypoint_classifier\\keypoint_classifier.hdf5\n",
      "37/37 [==============================] - 0s 13ms/step - loss: 0.8846 - accuracy: 0.6594 - val_loss: 0.4852 - val_accuracy: 0.8752\n",
      "Epoch 80/1000\n",
      "33/37 [=========================>....] - ETA: 0s - loss: 0.8791 - accuracy: 0.6728\n",
      "Epoch 80: saving model to model/keypoint_classifier\\keypoint_classifier.hdf5\n",
      "37/37 [==============================] - 0s 13ms/step - loss: 0.8763 - accuracy: 0.6722 - val_loss: 0.4849 - val_accuracy: 0.8758\n",
      "Epoch 81/1000\n",
      "32/37 [========================>.....] - ETA: 0s - loss: 0.8820 - accuracy: 0.6638\n",
      "Epoch 81: saving model to model/keypoint_classifier\\keypoint_classifier.hdf5\n",
      "37/37 [==============================] - 0s 11ms/step - loss: 0.8742 - accuracy: 0.6656 - val_loss: 0.4876 - val_accuracy: 0.8758\n",
      "Epoch 82/1000\n",
      "30/37 [=======================>......] - ETA: 0s - loss: 0.8749 - accuracy: 0.6586\n",
      "Epoch 82: saving model to model/keypoint_classifier\\keypoint_classifier.hdf5\n",
      "37/37 [==============================] - 0s 13ms/step - loss: 0.8677 - accuracy: 0.6669 - val_loss: 0.4806 - val_accuracy: 0.8822\n",
      "Epoch 83/1000\n",
      "33/37 [=========================>....] - ETA: 0s - loss: 0.8564 - accuracy: 0.6726\n",
      "Epoch 83: saving model to model/keypoint_classifier\\keypoint_classifier.hdf5\n",
      "37/37 [==============================] - 0s 12ms/step - loss: 0.8639 - accuracy: 0.6701 - val_loss: 0.4818 - val_accuracy: 0.8739\n",
      "Epoch 84/1000\n",
      "33/37 [=========================>....] - ETA: 0s - loss: 0.8953 - accuracy: 0.6586\n",
      "Epoch 84: saving model to model/keypoint_classifier\\keypoint_classifier.hdf5\n",
      "37/37 [==============================] - 0s 12ms/step - loss: 0.8944 - accuracy: 0.6572 - val_loss: 0.4844 - val_accuracy: 0.8745\n",
      "Epoch 85/1000\n",
      "33/37 [=========================>....] - ETA: 0s - loss: 0.8722 - accuracy: 0.6690\n",
      "Epoch 85: saving model to model/keypoint_classifier\\keypoint_classifier.hdf5\n",
      "37/37 [==============================] - 1s 14ms/step - loss: 0.8712 - accuracy: 0.6695 - val_loss: 0.4787 - val_accuracy: 0.8777\n",
      "Epoch 86/1000\n",
      "32/37 [========================>.....] - ETA: 0s - loss: 0.8372 - accuracy: 0.6877\n",
      "Epoch 86: saving model to model/keypoint_classifier\\keypoint_classifier.hdf5\n",
      "37/37 [==============================] - 0s 12ms/step - loss: 0.8443 - accuracy: 0.6843 - val_loss: 0.4714 - val_accuracy: 0.8752\n",
      "Epoch 87/1000\n",
      "35/37 [===========================>..] - ETA: 0s - loss: 0.8631 - accuracy: 0.6790\n",
      "Epoch 87: saving model to model/keypoint_classifier\\keypoint_classifier.hdf5\n",
      "37/37 [==============================] - 0s 12ms/step - loss: 0.8604 - accuracy: 0.6791 - val_loss: 0.4751 - val_accuracy: 0.8752\n",
      "Epoch 88/1000\n",
      "33/37 [=========================>....] - ETA: 0s - loss: 0.8778 - accuracy: 0.6688\n",
      "Epoch 88: saving model to model/keypoint_classifier\\keypoint_classifier.hdf5\n",
      "37/37 [==============================] - 0s 12ms/step - loss: 0.8799 - accuracy: 0.6690 - val_loss: 0.4778 - val_accuracy: 0.8764\n",
      "Epoch 89/1000\n",
      "33/37 [=========================>....] - ETA: 0s - loss: 0.8614 - accuracy: 0.6688\n",
      "Epoch 89: saving model to model/keypoint_classifier\\keypoint_classifier.hdf5\n",
      "37/37 [==============================] - 0s 12ms/step - loss: 0.8528 - accuracy: 0.6729 - val_loss: 0.4771 - val_accuracy: 0.8752\n",
      "Epoch 90/1000\n",
      "33/37 [=========================>....] - ETA: 0s - loss: 0.8810 - accuracy: 0.6624\n",
      "Epoch 90: saving model to model/keypoint_classifier\\keypoint_classifier.hdf5\n",
      "37/37 [==============================] - 0s 12ms/step - loss: 0.8797 - accuracy: 0.6630 - val_loss: 0.4757 - val_accuracy: 0.8726\n",
      "Epoch 91/1000\n",
      "32/37 [========================>.....] - ETA: 0s - loss: 0.8859 - accuracy: 0.6665\n",
      "Epoch 91: saving model to model/keypoint_classifier\\keypoint_classifier.hdf5\n",
      "37/37 [==============================] - 1s 21ms/step - loss: 0.8807 - accuracy: 0.6675 - val_loss: 0.4848 - val_accuracy: 0.8713\n",
      "Epoch 92/1000\n",
      "34/37 [==========================>...] - ETA: 0s - loss: 0.8665 - accuracy: 0.6677\n",
      "Epoch 92: saving model to model/keypoint_classifier\\keypoint_classifier.hdf5\n",
      "37/37 [==============================] - 2s 43ms/step - loss: 0.8625 - accuracy: 0.6710 - val_loss: 0.4818 - val_accuracy: 0.8732\n",
      "Epoch 93/1000\n",
      "33/37 [=========================>....] - ETA: 0s - loss: 0.8782 - accuracy: 0.6650\n",
      "Epoch 93: saving model to model/keypoint_classifier\\keypoint_classifier.hdf5\n",
      "37/37 [==============================] - 1s 19ms/step - loss: 0.8742 - accuracy: 0.6665 - val_loss: 0.4760 - val_accuracy: 0.8764\n",
      "Epoch 94/1000\n",
      "36/37 [============================>.] - ETA: 0s - loss: 0.8497 - accuracy: 0.6836\n",
      "Epoch 94: saving model to model/keypoint_classifier\\keypoint_classifier.hdf5\n",
      "37/37 [==============================] - 1s 23ms/step - loss: 0.8520 - accuracy: 0.6832 - val_loss: 0.4736 - val_accuracy: 0.8726\n",
      "Epoch 95/1000\n",
      "37/37 [==============================] - ETA: 0s - loss: 0.8815 - accuracy: 0.6804\n",
      "Epoch 95: saving model to model/keypoint_classifier\\keypoint_classifier.hdf5\n",
      "37/37 [==============================] - 1s 19ms/step - loss: 0.8815 - accuracy: 0.6804 - val_loss: 0.4720 - val_accuracy: 0.8797\n",
      "Epoch 96/1000\n",
      "36/37 [============================>.] - ETA: 0s - loss: 0.8574 - accuracy: 0.6740\n",
      "Epoch 96: saving model to model/keypoint_classifier\\keypoint_classifier.hdf5\n",
      "37/37 [==============================] - 1s 16ms/step - loss: 0.8571 - accuracy: 0.6737 - val_loss: 0.4657 - val_accuracy: 0.8790\n",
      "Epoch 97/1000\n",
      "35/37 [===========================>..] - ETA: 0s - loss: 0.8242 - accuracy: 0.6917\n",
      "Epoch 97: saving model to model/keypoint_classifier\\keypoint_classifier.hdf5\n",
      "37/37 [==============================] - 1s 15ms/step - loss: 0.8216 - accuracy: 0.6929 - val_loss: 0.4719 - val_accuracy: 0.8726\n",
      "Epoch 98/1000\n",
      "35/37 [===========================>..] - ETA: 0s - loss: 0.8654 - accuracy: 0.6777\n",
      "Epoch 98: saving model to model/keypoint_classifier\\keypoint_classifier.hdf5\n",
      "37/37 [==============================] - 1s 15ms/step - loss: 0.8686 - accuracy: 0.6770 - val_loss: 0.4608 - val_accuracy: 0.8816\n",
      "Epoch 99/1000\n",
      "36/37 [============================>.] - ETA: 0s - loss: 0.8441 - accuracy: 0.6858\n",
      "Epoch 99: saving model to model/keypoint_classifier\\keypoint_classifier.hdf5\n",
      "37/37 [==============================] - 1s 15ms/step - loss: 0.8426 - accuracy: 0.6853 - val_loss: 0.4581 - val_accuracy: 0.8842\n",
      "Epoch 100/1000\n",
      "37/37 [==============================] - ETA: 0s - loss: 0.8688 - accuracy: 0.6746\n",
      "Epoch 100: saving model to model/keypoint_classifier\\keypoint_classifier.hdf5\n",
      "37/37 [==============================] - 1s 14ms/step - loss: 0.8688 - accuracy: 0.6746 - val_loss: 0.4679 - val_accuracy: 0.8674\n",
      "Epoch 101/1000\n",
      "35/37 [===========================>..] - ETA: 0s - loss: 0.8439 - accuracy: 0.6973\n",
      "Epoch 101: saving model to model/keypoint_classifier\\keypoint_classifier.hdf5\n",
      "37/37 [==============================] - 1s 15ms/step - loss: 0.8424 - accuracy: 0.6978 - val_loss: 0.4700 - val_accuracy: 0.8713\n",
      "Epoch 102/1000\n",
      "37/37 [==============================] - ETA: 0s - loss: 0.8372 - accuracy: 0.6946\n",
      "Epoch 102: saving model to model/keypoint_classifier\\keypoint_classifier.hdf5\n",
      "37/37 [==============================] - 1s 15ms/step - loss: 0.8372 - accuracy: 0.6946 - val_loss: 0.4574 - val_accuracy: 0.8771\n",
      "Epoch 103/1000\n",
      "37/37 [==============================] - ETA: 0s - loss: 0.8417 - accuracy: 0.6868\n",
      "Epoch 103: saving model to model/keypoint_classifier\\keypoint_classifier.hdf5\n",
      "37/37 [==============================] - 1s 14ms/step - loss: 0.8417 - accuracy: 0.6868 - val_loss: 0.4585 - val_accuracy: 0.8784\n",
      "Epoch 104/1000\n",
      "37/37 [==============================] - ETA: 0s - loss: 0.8494 - accuracy: 0.6804\n",
      "Epoch 104: saving model to model/keypoint_classifier\\keypoint_classifier.hdf5\n",
      "37/37 [==============================] - 1s 14ms/step - loss: 0.8494 - accuracy: 0.6804 - val_loss: 0.4602 - val_accuracy: 0.8758\n",
      "Epoch 105/1000\n",
      "37/37 [==============================] - ETA: 0s - loss: 0.8486 - accuracy: 0.6834\n",
      "Epoch 105: saving model to model/keypoint_classifier\\keypoint_classifier.hdf5\n",
      "37/37 [==============================] - 1s 15ms/step - loss: 0.8486 - accuracy: 0.6834 - val_loss: 0.4471 - val_accuracy: 0.8867\n",
      "Epoch 106/1000\n",
      "35/37 [===========================>..] - ETA: 0s - loss: 0.8720 - accuracy: 0.6705\n",
      "Epoch 106: saving model to model/keypoint_classifier\\keypoint_classifier.hdf5\n",
      "37/37 [==============================] - 1s 15ms/step - loss: 0.8726 - accuracy: 0.6701 - val_loss: 0.4650 - val_accuracy: 0.8668\n",
      "Epoch 107/1000\n",
      "37/37 [==============================] - ETA: 0s - loss: 0.8461 - accuracy: 0.6935\n",
      "Epoch 107: saving model to model/keypoint_classifier\\keypoint_classifier.hdf5\n",
      "37/37 [==============================] - 1s 15ms/step - loss: 0.8461 - accuracy: 0.6935 - val_loss: 0.4617 - val_accuracy: 0.8700\n",
      "Epoch 108/1000\n",
      "33/37 [=========================>....] - ETA: 0s - loss: 0.8401 - accuracy: 0.6929\n",
      "Epoch 108: saving model to model/keypoint_classifier\\keypoint_classifier.hdf5\n",
      "37/37 [==============================] - 0s 12ms/step - loss: 0.8477 - accuracy: 0.6890 - val_loss: 0.4580 - val_accuracy: 0.8700\n",
      "Epoch 109/1000\n",
      "33/37 [=========================>....] - ETA: 0s - loss: 0.8468 - accuracy: 0.6844\n",
      "Epoch 109: saving model to model/keypoint_classifier\\keypoint_classifier.hdf5\n",
      "37/37 [==============================] - 0s 12ms/step - loss: 0.8452 - accuracy: 0.6879 - val_loss: 0.4521 - val_accuracy: 0.8829\n",
      "Epoch 110/1000\n",
      "36/37 [============================>.] - ETA: 0s - loss: 0.8225 - accuracy: 0.6947\n",
      "Epoch 110: saving model to model/keypoint_classifier\\keypoint_classifier.hdf5\n",
      "37/37 [==============================] - 0s 12ms/step - loss: 0.8215 - accuracy: 0.6956 - val_loss: 0.4591 - val_accuracy: 0.8771\n",
      "Epoch 111/1000\n",
      "34/37 [==========================>...] - ETA: 0s - loss: 0.8443 - accuracy: 0.6827\n",
      "Epoch 111: saving model to model/keypoint_classifier\\keypoint_classifier.hdf5\n",
      "37/37 [==============================] - 0s 12ms/step - loss: 0.8468 - accuracy: 0.6836 - val_loss: 0.4527 - val_accuracy: 0.8700\n",
      "Epoch 112/1000\n",
      "34/37 [==========================>...] - ETA: 0s - loss: 0.8542 - accuracy: 0.6772\n",
      "Epoch 112: saving model to model/keypoint_classifier\\keypoint_classifier.hdf5\n",
      "37/37 [==============================] - 0s 12ms/step - loss: 0.8455 - accuracy: 0.6798 - val_loss: 0.4497 - val_accuracy: 0.8777\n",
      "Epoch 113/1000\n",
      "33/37 [=========================>....] - ETA: 0s - loss: 0.8779 - accuracy: 0.6714\n",
      "Epoch 113: saving model to model/keypoint_classifier\\keypoint_classifier.hdf5\n",
      "37/37 [==============================] - 0s 12ms/step - loss: 0.8759 - accuracy: 0.6740 - val_loss: 0.4513 - val_accuracy: 0.8739\n",
      "Epoch 114/1000\n",
      "33/37 [=========================>....] - ETA: 0s - loss: 0.8372 - accuracy: 0.6825\n",
      "Epoch 114: saving model to model/keypoint_classifier\\keypoint_classifier.hdf5\n",
      "37/37 [==============================] - 0s 12ms/step - loss: 0.8351 - accuracy: 0.6851 - val_loss: 0.4521 - val_accuracy: 0.8752\n",
      "Epoch 115/1000\n",
      "33/37 [=========================>....] - ETA: 0s - loss: 0.8297 - accuracy: 0.6906\n",
      "Epoch 115: saving model to model/keypoint_classifier\\keypoint_classifier.hdf5\n",
      "37/37 [==============================] - 0s 12ms/step - loss: 0.8323 - accuracy: 0.6924 - val_loss: 0.4470 - val_accuracy: 0.8752\n",
      "Epoch 116/1000\n",
      "34/37 [==========================>...] - ETA: 0s - loss: 0.8147 - accuracy: 0.6962\n",
      "Epoch 116: saving model to model/keypoint_classifier\\keypoint_classifier.hdf5\n",
      "37/37 [==============================] - 0s 12ms/step - loss: 0.8208 - accuracy: 0.6956 - val_loss: 0.4450 - val_accuracy: 0.8784\n",
      "Epoch 117/1000\n",
      "33/37 [=========================>....] - ETA: 0s - loss: 0.8442 - accuracy: 0.6809\n",
      "Epoch 117: saving model to model/keypoint_classifier\\keypoint_classifier.hdf5\n",
      "37/37 [==============================] - 0s 12ms/step - loss: 0.8417 - accuracy: 0.6836 - val_loss: 0.4473 - val_accuracy: 0.8758\n",
      "Epoch 118/1000\n",
      "36/37 [============================>.] - ETA: 0s - loss: 0.8479 - accuracy: 0.6840\n",
      "Epoch 118: saving model to model/keypoint_classifier\\keypoint_classifier.hdf5\n",
      "37/37 [==============================] - 0s 13ms/step - loss: 0.8476 - accuracy: 0.6836 - val_loss: 0.4552 - val_accuracy: 0.8726\n",
      "Epoch 119/1000\n",
      "34/37 [==========================>...] - ETA: 0s - loss: 0.8712 - accuracy: 0.6753\n",
      "Epoch 119: saving model to model/keypoint_classifier\\keypoint_classifier.hdf5\n",
      "37/37 [==============================] - 0s 12ms/step - loss: 0.8700 - accuracy: 0.6776 - val_loss: 0.4494 - val_accuracy: 0.8764\n",
      "Epoch 120/1000\n",
      "34/37 [==========================>...] - ETA: 0s - loss: 0.8550 - accuracy: 0.6790\n",
      "Epoch 120: saving model to model/keypoint_classifier\\keypoint_classifier.hdf5\n",
      "37/37 [==============================] - 0s 12ms/step - loss: 0.8557 - accuracy: 0.6802 - val_loss: 0.4477 - val_accuracy: 0.8842\n",
      "Epoch 121/1000\n",
      "35/37 [===========================>..] - ETA: 0s - loss: 0.8338 - accuracy: 0.6904\n",
      "Epoch 121: saving model to model/keypoint_classifier\\keypoint_classifier.hdf5\n",
      "37/37 [==============================] - 0s 12ms/step - loss: 0.8322 - accuracy: 0.6909 - val_loss: 0.4483 - val_accuracy: 0.8764\n",
      "Epoch 122/1000\n",
      "33/37 [=========================>....] - ETA: 0s - loss: 0.8403 - accuracy: 0.6821\n",
      "Epoch 122: saving model to model/keypoint_classifier\\keypoint_classifier.hdf5\n",
      "37/37 [==============================] - 0s 12ms/step - loss: 0.8362 - accuracy: 0.6830 - val_loss: 0.4451 - val_accuracy: 0.8810\n",
      "Epoch 123/1000\n",
      "33/37 [=========================>....] - ETA: 0s - loss: 0.8558 - accuracy: 0.6721\n",
      "Epoch 123: saving model to model/keypoint_classifier\\keypoint_classifier.hdf5\n",
      "37/37 [==============================] - 0s 12ms/step - loss: 0.8477 - accuracy: 0.6757 - val_loss: 0.4491 - val_accuracy: 0.8732\n",
      "Epoch 124/1000\n",
      "34/37 [==========================>...] - ETA: 0s - loss: 0.8086 - accuracy: 0.7057\n",
      "Epoch 124: saving model to model/keypoint_classifier\\keypoint_classifier.hdf5\n",
      "37/37 [==============================] - 0s 12ms/step - loss: 0.8086 - accuracy: 0.7047 - val_loss: 0.4356 - val_accuracy: 0.8784\n",
      "Epoch 125/1000\n",
      "33/37 [=========================>....] - ETA: 0s - loss: 0.8330 - accuracy: 0.6832\n",
      "Epoch 125: saving model to model/keypoint_classifier\\keypoint_classifier.hdf5\n",
      "37/37 [==============================] - 0s 12ms/step - loss: 0.8348 - accuracy: 0.6828 - val_loss: 0.4438 - val_accuracy: 0.8777\n",
      "Epoch 126/1000\n",
      "34/37 [==========================>...] - ETA: 0s - loss: 0.8224 - accuracy: 0.6886\n",
      "Epoch 126: saving model to model/keypoint_classifier\\keypoint_classifier.hdf5\n",
      "37/37 [==============================] - 0s 12ms/step - loss: 0.8246 - accuracy: 0.6873 - val_loss: 0.4387 - val_accuracy: 0.8835\n",
      "Epoch 127/1000\n",
      "33/37 [=========================>....] - ETA: 0s - loss: 0.8388 - accuracy: 0.6806\n",
      "Epoch 127: saving model to model/keypoint_classifier\\keypoint_classifier.hdf5\n",
      "37/37 [==============================] - 0s 12ms/step - loss: 0.8362 - accuracy: 0.6819 - val_loss: 0.4486 - val_accuracy: 0.8694\n",
      "Epoch 128/1000\n",
      "34/37 [==========================>...] - ETA: 0s - loss: 0.8446 - accuracy: 0.6850\n",
      "Epoch 128: saving model to model/keypoint_classifier\\keypoint_classifier.hdf5\n",
      "37/37 [==============================] - 0s 12ms/step - loss: 0.8435 - accuracy: 0.6828 - val_loss: 0.4372 - val_accuracy: 0.8842\n",
      "Epoch 129/1000\n",
      "34/37 [==========================>...] - ETA: 0s - loss: 0.8420 - accuracy: 0.6886\n",
      "Epoch 129: saving model to model/keypoint_classifier\\keypoint_classifier.hdf5\n",
      "37/37 [==============================] - 0s 12ms/step - loss: 0.8415 - accuracy: 0.6890 - val_loss: 0.4562 - val_accuracy: 0.8732\n",
      "Epoch 130/1000\n",
      "33/37 [=========================>....] - ETA: 0s - loss: 0.8201 - accuracy: 0.7036\n",
      "Epoch 130: saving model to model/keypoint_classifier\\keypoint_classifier.hdf5\n",
      "37/37 [==============================] - 0s 12ms/step - loss: 0.8207 - accuracy: 0.7036 - val_loss: 0.4366 - val_accuracy: 0.8829\n",
      "Epoch 131/1000\n",
      "34/37 [==========================>...] - ETA: 0s - loss: 0.8418 - accuracy: 0.6859\n",
      "Epoch 131: saving model to model/keypoint_classifier\\keypoint_classifier.hdf5\n",
      "37/37 [==============================] - 0s 12ms/step - loss: 0.8410 - accuracy: 0.6853 - val_loss: 0.4524 - val_accuracy: 0.8739\n",
      "Epoch 132/1000\n",
      "33/37 [=========================>....] - ETA: 0s - loss: 0.8111 - accuracy: 0.6963\n",
      "Epoch 132: saving model to model/keypoint_classifier\\keypoint_classifier.hdf5\n",
      "37/37 [==============================] - 0s 12ms/step - loss: 0.8137 - accuracy: 0.6965 - val_loss: 0.4421 - val_accuracy: 0.8719\n",
      "Epoch 133/1000\n",
      "32/37 [========================>.....] - ETA: 0s - loss: 0.8105 - accuracy: 0.6892\n",
      "Epoch 133: saving model to model/keypoint_classifier\\keypoint_classifier.hdf5\n",
      "37/37 [==============================] - 0s 12ms/step - loss: 0.8182 - accuracy: 0.6890 - val_loss: 0.4274 - val_accuracy: 0.8822\n",
      "Epoch 134/1000\n",
      "35/37 [===========================>..] - ETA: 0s - loss: 0.8191 - accuracy: 0.6989\n",
      "Epoch 134: saving model to model/keypoint_classifier\\keypoint_classifier.hdf5\n",
      "37/37 [==============================] - 0s 12ms/step - loss: 0.8226 - accuracy: 0.6980 - val_loss: 0.4326 - val_accuracy: 0.8829\n",
      "Epoch 135/1000\n",
      "33/37 [=========================>....] - ETA: 0s - loss: 0.8374 - accuracy: 0.6929\n",
      "Epoch 135: saving model to model/keypoint_classifier\\keypoint_classifier.hdf5\n",
      "37/37 [==============================] - 0s 12ms/step - loss: 0.8339 - accuracy: 0.6937 - val_loss: 0.4351 - val_accuracy: 0.8810\n",
      "Epoch 136/1000\n",
      "33/37 [=========================>....] - ETA: 0s - loss: 0.8232 - accuracy: 0.6934\n",
      "Epoch 136: saving model to model/keypoint_classifier\\keypoint_classifier.hdf5\n",
      "37/37 [==============================] - 0s 13ms/step - loss: 0.8181 - accuracy: 0.6941 - val_loss: 0.4316 - val_accuracy: 0.8848\n",
      "Epoch 137/1000\n",
      "32/37 [========================>.....] - ETA: 0s - loss: 0.8181 - accuracy: 0.7002\n",
      "Epoch 137: saving model to model/keypoint_classifier\\keypoint_classifier.hdf5\n",
      "37/37 [==============================] - 0s 12ms/step - loss: 0.8114 - accuracy: 0.7025 - val_loss: 0.4317 - val_accuracy: 0.8855\n",
      "Epoch 138/1000\n",
      "33/37 [=========================>....] - ETA: 0s - loss: 0.8154 - accuracy: 0.6955\n",
      "Epoch 138: saving model to model/keypoint_classifier\\keypoint_classifier.hdf5\n",
      "37/37 [==============================] - 0s 12ms/step - loss: 0.8104 - accuracy: 0.6976 - val_loss: 0.4401 - val_accuracy: 0.8732\n",
      "Epoch 139/1000\n",
      "34/37 [==========================>...] - ETA: 0s - loss: 0.8010 - accuracy: 0.7047\n",
      "Epoch 139: saving model to model/keypoint_classifier\\keypoint_classifier.hdf5\n",
      "37/37 [==============================] - 0s 12ms/step - loss: 0.8045 - accuracy: 0.7049 - val_loss: 0.4315 - val_accuracy: 0.8732\n",
      "Epoch 140/1000\n",
      "33/37 [=========================>....] - ETA: 0s - loss: 0.8138 - accuracy: 0.7000\n",
      "Epoch 140: saving model to model/keypoint_classifier\\keypoint_classifier.hdf5\n",
      "37/37 [==============================] - 0s 13ms/step - loss: 0.8113 - accuracy: 0.7008 - val_loss: 0.4294 - val_accuracy: 0.8758\n",
      "Epoch 141/1000\n",
      "30/37 [=======================>......] - ETA: 0s - loss: 0.8432 - accuracy: 0.6836\n",
      "Epoch 141: saving model to model/keypoint_classifier\\keypoint_classifier.hdf5\n",
      "37/37 [==============================] - 0s 13ms/step - loss: 0.8281 - accuracy: 0.6905 - val_loss: 0.4292 - val_accuracy: 0.8790\n",
      "Epoch 142/1000\n",
      "37/37 [==============================] - ETA: 0s - loss: 0.8345 - accuracy: 0.6798\n",
      "Epoch 142: saving model to model/keypoint_classifier\\keypoint_classifier.hdf5\n",
      "37/37 [==============================] - 0s 13ms/step - loss: 0.8345 - accuracy: 0.6798 - val_loss: 0.4329 - val_accuracy: 0.8790\n",
      "Epoch 143/1000\n",
      "35/37 [===========================>..] - ETA: 0s - loss: 0.8061 - accuracy: 0.6989\n",
      "Epoch 143: saving model to model/keypoint_classifier\\keypoint_classifier.hdf5\n",
      "37/37 [==============================] - 0s 12ms/step - loss: 0.8067 - accuracy: 0.6993 - val_loss: 0.4375 - val_accuracy: 0.8771\n",
      "Epoch 144/1000\n",
      "35/37 [===========================>..] - ETA: 0s - loss: 0.8198 - accuracy: 0.6904\n",
      "Epoch 144: saving model to model/keypoint_classifier\\keypoint_classifier.hdf5\n",
      "37/37 [==============================] - 0s 11ms/step - loss: 0.8240 - accuracy: 0.6886 - val_loss: 0.4295 - val_accuracy: 0.8790\n",
      "Epoch 145/1000\n",
      "35/37 [===========================>..] - ETA: 0s - loss: 0.8333 - accuracy: 0.6855\n",
      "Epoch 145: saving model to model/keypoint_classifier\\keypoint_classifier.hdf5\n",
      "37/37 [==============================] - 0s 12ms/step - loss: 0.8300 - accuracy: 0.6860 - val_loss: 0.4232 - val_accuracy: 0.8842\n",
      "Epoch 146/1000\n",
      "33/37 [=========================>....] - ETA: 0s - loss: 0.8251 - accuracy: 0.6927\n",
      "Epoch 146: saving model to model/keypoint_classifier\\keypoint_classifier.hdf5\n",
      "37/37 [==============================] - 0s 12ms/step - loss: 0.8199 - accuracy: 0.6948 - val_loss: 0.4286 - val_accuracy: 0.8726\n",
      "Epoch 147/1000\n",
      "34/37 [==========================>...] - ETA: 0s - loss: 0.8262 - accuracy: 0.6955\n",
      "Epoch 147: saving model to model/keypoint_classifier\\keypoint_classifier.hdf5\n",
      "37/37 [==============================] - 0s 12ms/step - loss: 0.8245 - accuracy: 0.6967 - val_loss: 0.4390 - val_accuracy: 0.8687\n",
      "Epoch 148/1000\n",
      "33/37 [=========================>....] - ETA: 0s - loss: 0.8194 - accuracy: 0.7005\n",
      "Epoch 148: saving model to model/keypoint_classifier\\keypoint_classifier.hdf5\n",
      "37/37 [==============================] - 0s 12ms/step - loss: 0.8159 - accuracy: 0.7023 - val_loss: 0.4309 - val_accuracy: 0.8732\n",
      "Epoch 149/1000\n",
      "34/37 [==========================>...] - ETA: 0s - loss: 0.8323 - accuracy: 0.6854\n",
      "Epoch 149: saving model to model/keypoint_classifier\\keypoint_classifier.hdf5\n",
      "37/37 [==============================] - 0s 12ms/step - loss: 0.8337 - accuracy: 0.6856 - val_loss: 0.4307 - val_accuracy: 0.8745\n",
      "Epoch 150/1000\n",
      "33/37 [=========================>....] - ETA: 0s - loss: 0.8301 - accuracy: 0.6877\n",
      "Epoch 150: saving model to model/keypoint_classifier\\keypoint_classifier.hdf5\n",
      "37/37 [==============================] - 0s 13ms/step - loss: 0.8239 - accuracy: 0.6916 - val_loss: 0.4275 - val_accuracy: 0.8816\n",
      "Epoch 151/1000\n",
      "33/37 [=========================>....] - ETA: 0s - loss: 0.8021 - accuracy: 0.6958\n",
      "Epoch 151: saving model to model/keypoint_classifier\\keypoint_classifier.hdf5\n",
      "37/37 [==============================] - 0s 13ms/step - loss: 0.8078 - accuracy: 0.6978 - val_loss: 0.4282 - val_accuracy: 0.8745\n",
      "Epoch 152/1000\n",
      "33/37 [=========================>....] - ETA: 0s - loss: 0.8068 - accuracy: 0.7079\n",
      "Epoch 152: saving model to model/keypoint_classifier\\keypoint_classifier.hdf5\n",
      "37/37 [==============================] - 0s 12ms/step - loss: 0.8064 - accuracy: 0.7040 - val_loss: 0.4268 - val_accuracy: 0.8797\n",
      "Epoch 153/1000\n",
      "30/37 [=======================>......] - ETA: 0s - loss: 0.8204 - accuracy: 0.7010\n",
      "Epoch 153: saving model to model/keypoint_classifier\\keypoint_classifier.hdf5\n",
      "37/37 [==============================] - 0s 12ms/step - loss: 0.8212 - accuracy: 0.7032 - val_loss: 0.4256 - val_accuracy: 0.8810\n",
      "Epoch 154/1000\n",
      "33/37 [=========================>....] - ETA: 0s - loss: 0.8165 - accuracy: 0.6915\n",
      "Epoch 154: saving model to model/keypoint_classifier\\keypoint_classifier.hdf5\n",
      "37/37 [==============================] - 0s 12ms/step - loss: 0.8190 - accuracy: 0.6886 - val_loss: 0.4304 - val_accuracy: 0.8777\n",
      "Epoch 155/1000\n",
      "34/37 [==========================>...] - ETA: 0s - loss: 0.8114 - accuracy: 0.6962\n",
      "Epoch 155: saving model to model/keypoint_classifier\\keypoint_classifier.hdf5\n",
      "37/37 [==============================] - 0s 12ms/step - loss: 0.8190 - accuracy: 0.6952 - val_loss: 0.4298 - val_accuracy: 0.8745\n",
      "Epoch 156/1000\n",
      "35/37 [===========================>..] - ETA: 0s - loss: 0.8307 - accuracy: 0.7007\n",
      "Epoch 156: saving model to model/keypoint_classifier\\keypoint_classifier.hdf5\n",
      "37/37 [==============================] - 0s 12ms/step - loss: 0.8306 - accuracy: 0.7017 - val_loss: 0.4262 - val_accuracy: 0.8822\n",
      "Epoch 157/1000\n",
      "33/37 [=========================>....] - ETA: 0s - loss: 0.8119 - accuracy: 0.7000\n",
      "Epoch 157: saving model to model/keypoint_classifier\\keypoint_classifier.hdf5\n",
      "37/37 [==============================] - 0s 13ms/step - loss: 0.8105 - accuracy: 0.7019 - val_loss: 0.4220 - val_accuracy: 0.8842\n",
      "Epoch 158/1000\n",
      "35/37 [===========================>..] - ETA: 0s - loss: 0.8083 - accuracy: 0.7051\n",
      "Epoch 158: saving model to model/keypoint_classifier\\keypoint_classifier.hdf5\n",
      "37/37 [==============================] - 0s 12ms/step - loss: 0.8104 - accuracy: 0.7066 - val_loss: 0.4246 - val_accuracy: 0.8777\n",
      "Epoch 159/1000\n",
      "33/37 [=========================>....] - ETA: 0s - loss: 0.8082 - accuracy: 0.7027\n",
      "Epoch 159: saving model to model/keypoint_classifier\\keypoint_classifier.hdf5\n",
      "37/37 [==============================] - 0s 13ms/step - loss: 0.8101 - accuracy: 0.7006 - val_loss: 0.4214 - val_accuracy: 0.8829\n",
      "Epoch 160/1000\n",
      "33/37 [=========================>....] - ETA: 0s - loss: 0.8236 - accuracy: 0.6963\n",
      "Epoch 160: saving model to model/keypoint_classifier\\keypoint_classifier.hdf5\n",
      "37/37 [==============================] - 0s 13ms/step - loss: 0.8171 - accuracy: 0.6991 - val_loss: 0.4202 - val_accuracy: 0.8874\n",
      "Epoch 161/1000\n",
      "33/37 [=========================>....] - ETA: 0s - loss: 0.8164 - accuracy: 0.6880\n",
      "Epoch 161: saving model to model/keypoint_classifier\\keypoint_classifier.hdf5\n",
      "37/37 [==============================] - 0s 12ms/step - loss: 0.8130 - accuracy: 0.6907 - val_loss: 0.4318 - val_accuracy: 0.8758\n",
      "Epoch 162/1000\n",
      "36/37 [============================>.] - ETA: 0s - loss: 0.8081 - accuracy: 0.7007\n",
      "Epoch 162: saving model to model/keypoint_classifier\\keypoint_classifier.hdf5\n",
      "37/37 [==============================] - 0s 12ms/step - loss: 0.8084 - accuracy: 0.7004 - val_loss: 0.4195 - val_accuracy: 0.8855\n",
      "Epoch 163/1000\n",
      "33/37 [=========================>....] - ETA: 0s - loss: 0.8067 - accuracy: 0.7053\n",
      "Epoch 163: saving model to model/keypoint_classifier\\keypoint_classifier.hdf5\n",
      "37/37 [==============================] - 0s 12ms/step - loss: 0.8145 - accuracy: 0.6995 - val_loss: 0.4238 - val_accuracy: 0.8861\n",
      "Epoch 164/1000\n",
      "33/37 [=========================>....] - ETA: 0s - loss: 0.8053 - accuracy: 0.6965\n",
      "Epoch 164: saving model to model/keypoint_classifier\\keypoint_classifier.hdf5\n",
      "37/37 [==============================] - 0s 13ms/step - loss: 0.8097 - accuracy: 0.6952 - val_loss: 0.4198 - val_accuracy: 0.8861\n",
      "Epoch 165/1000\n",
      "34/37 [==========================>...] - ETA: 0s - loss: 0.8040 - accuracy: 0.6981\n",
      "Epoch 165: saving model to model/keypoint_classifier\\keypoint_classifier.hdf5\n",
      "37/37 [==============================] - 0s 12ms/step - loss: 0.8085 - accuracy: 0.6963 - val_loss: 0.4249 - val_accuracy: 0.8855\n",
      "Epoch 166/1000\n",
      "35/37 [===========================>..] - ETA: 0s - loss: 0.8042 - accuracy: 0.6975\n",
      "Epoch 166: saving model to model/keypoint_classifier\\keypoint_classifier.hdf5\n",
      "37/37 [==============================] - 0s 11ms/step - loss: 0.8103 - accuracy: 0.6971 - val_loss: 0.4200 - val_accuracy: 0.8810\n",
      "Epoch 167/1000\n",
      "33/37 [=========================>....] - ETA: 0s - loss: 0.8149 - accuracy: 0.6967\n",
      "Epoch 167: saving model to model/keypoint_classifier\\keypoint_classifier.hdf5\n",
      "37/37 [==============================] - 0s 12ms/step - loss: 0.8156 - accuracy: 0.6997 - val_loss: 0.4192 - val_accuracy: 0.8880\n",
      "Epoch 168/1000\n",
      "34/37 [==========================>...] - ETA: 0s - loss: 0.8074 - accuracy: 0.6953\n",
      "Epoch 168: saving model to model/keypoint_classifier\\keypoint_classifier.hdf5\n",
      "37/37 [==============================] - 0s 12ms/step - loss: 0.8060 - accuracy: 0.6967 - val_loss: 0.4276 - val_accuracy: 0.8816\n",
      "Epoch 169/1000\n",
      "36/37 [============================>.] - ETA: 0s - loss: 0.8059 - accuracy: 0.7088\n",
      "Epoch 169: saving model to model/keypoint_classifier\\keypoint_classifier.hdf5\n",
      "37/37 [==============================] - 0s 11ms/step - loss: 0.8091 - accuracy: 0.7074 - val_loss: 0.4166 - val_accuracy: 0.8893\n",
      "Epoch 170/1000\n",
      "33/37 [=========================>....] - ETA: 0s - loss: 0.8124 - accuracy: 0.6958\n",
      "Epoch 170: saving model to model/keypoint_classifier\\keypoint_classifier.hdf5\n",
      "37/37 [==============================] - 0s 12ms/step - loss: 0.8118 - accuracy: 0.6961 - val_loss: 0.4145 - val_accuracy: 0.8932\n",
      "Epoch 171/1000\n",
      "35/37 [===========================>..] - ETA: 0s - loss: 0.7819 - accuracy: 0.7100\n",
      "Epoch 171: saving model to model/keypoint_classifier\\keypoint_classifier.hdf5\n",
      "37/37 [==============================] - 0s 12ms/step - loss: 0.7777 - accuracy: 0.7107 - val_loss: 0.4201 - val_accuracy: 0.8861\n",
      "Epoch 172/1000\n",
      "34/37 [==========================>...] - ETA: 0s - loss: 0.8156 - accuracy: 0.7061\n",
      "Epoch 172: saving model to model/keypoint_classifier\\keypoint_classifier.hdf5\n",
      "37/37 [==============================] - 0s 12ms/step - loss: 0.8152 - accuracy: 0.7055 - val_loss: 0.4158 - val_accuracy: 0.8912\n",
      "Epoch 173/1000\n",
      "30/37 [=======================>......] - ETA: 0s - loss: 0.8104 - accuracy: 0.6997\n",
      "Epoch 173: saving model to model/keypoint_classifier\\keypoint_classifier.hdf5\n",
      "37/37 [==============================] - 0s 13ms/step - loss: 0.8150 - accuracy: 0.6974 - val_loss: 0.4137 - val_accuracy: 0.8855\n",
      "Epoch 174/1000\n",
      "35/37 [===========================>..] - ETA: 0s - loss: 0.8232 - accuracy: 0.7038\n",
      "Epoch 174: saving model to model/keypoint_classifier\\keypoint_classifier.hdf5\n",
      "37/37 [==============================] - 0s 12ms/step - loss: 0.8272 - accuracy: 0.7025 - val_loss: 0.4119 - val_accuracy: 0.8925\n",
      "Epoch 175/1000\n",
      "33/37 [=========================>....] - ETA: 0s - loss: 0.7826 - accuracy: 0.7100\n",
      "Epoch 175: saving model to model/keypoint_classifier\\keypoint_classifier.hdf5\n",
      "37/37 [==============================] - 0s 12ms/step - loss: 0.7874 - accuracy: 0.7111 - val_loss: 0.4167 - val_accuracy: 0.8893\n",
      "Epoch 176/1000\n",
      "33/37 [=========================>....] - ETA: 0s - loss: 0.7911 - accuracy: 0.7109\n",
      "Epoch 176: saving model to model/keypoint_classifier\\keypoint_classifier.hdf5\n",
      "37/37 [==============================] - 0s 12ms/step - loss: 0.7930 - accuracy: 0.7077 - val_loss: 0.4094 - val_accuracy: 0.8932\n",
      "Epoch 177/1000\n",
      "33/37 [=========================>....] - ETA: 0s - loss: 0.7906 - accuracy: 0.6970\n",
      "Epoch 177: saving model to model/keypoint_classifier\\keypoint_classifier.hdf5\n",
      "37/37 [==============================] - 0s 12ms/step - loss: 0.7907 - accuracy: 0.7002 - val_loss: 0.4178 - val_accuracy: 0.8816\n",
      "Epoch 178/1000\n",
      "34/37 [==========================>...] - ETA: 0s - loss: 0.8030 - accuracy: 0.6942\n",
      "Epoch 178: saving model to model/keypoint_classifier\\keypoint_classifier.hdf5\n",
      "37/37 [==============================] - 0s 12ms/step - loss: 0.8050 - accuracy: 0.6935 - val_loss: 0.4133 - val_accuracy: 0.8900\n",
      "Epoch 179/1000\n",
      "33/37 [=========================>....] - ETA: 0s - loss: 0.7864 - accuracy: 0.6918\n",
      "Epoch 179: saving model to model/keypoint_classifier\\keypoint_classifier.hdf5\n",
      "37/37 [==============================] - 0s 12ms/step - loss: 0.7898 - accuracy: 0.6941 - val_loss: 0.4138 - val_accuracy: 0.8816\n",
      "Epoch 180/1000\n",
      "34/37 [==========================>...] - ETA: 0s - loss: 0.8212 - accuracy: 0.7004\n",
      "Epoch 180: saving model to model/keypoint_classifier\\keypoint_classifier.hdf5\n",
      "37/37 [==============================] - 0s 12ms/step - loss: 0.8252 - accuracy: 0.7002 - val_loss: 0.4177 - val_accuracy: 0.8906\n",
      "Epoch 181/1000\n",
      "33/37 [=========================>....] - ETA: 0s - loss: 0.8080 - accuracy: 0.7017\n",
      "Epoch 181: saving model to model/keypoint_classifier\\keypoint_classifier.hdf5\n",
      "37/37 [==============================] - 0s 12ms/step - loss: 0.8024 - accuracy: 0.7038 - val_loss: 0.4129 - val_accuracy: 0.8829\n",
      "Epoch 182/1000\n",
      "33/37 [=========================>....] - ETA: 0s - loss: 0.8005 - accuracy: 0.7095\n",
      "Epoch 182: saving model to model/keypoint_classifier\\keypoint_classifier.hdf5\n",
      "37/37 [==============================] - 0s 12ms/step - loss: 0.8007 - accuracy: 0.7100 - val_loss: 0.4252 - val_accuracy: 0.8829\n",
      "Epoch 183/1000\n",
      "33/37 [=========================>....] - ETA: 0s - loss: 0.7890 - accuracy: 0.7102\n",
      "Epoch 183: saving model to model/keypoint_classifier\\keypoint_classifier.hdf5\n",
      "37/37 [==============================] - 0s 12ms/step - loss: 0.7956 - accuracy: 0.7096 - val_loss: 0.4187 - val_accuracy: 0.8822\n",
      "Epoch 184/1000\n",
      "33/37 [=========================>....] - ETA: 0s - loss: 0.8238 - accuracy: 0.6906\n",
      "Epoch 184: saving model to model/keypoint_classifier\\keypoint_classifier.hdf5\n",
      "37/37 [==============================] - 0s 12ms/step - loss: 0.8163 - accuracy: 0.6933 - val_loss: 0.4277 - val_accuracy: 0.8726\n",
      "Epoch 185/1000\n",
      "36/37 [============================>.] - ETA: 0s - loss: 0.7918 - accuracy: 0.7038\n",
      "Epoch 185: saving model to model/keypoint_classifier\\keypoint_classifier.hdf5\n",
      "37/37 [==============================] - 0s 12ms/step - loss: 0.7908 - accuracy: 0.7042 - val_loss: 0.4134 - val_accuracy: 0.8842\n",
      "Epoch 186/1000\n",
      "34/37 [==========================>...] - ETA: 0s - loss: 0.8047 - accuracy: 0.6999\n",
      "Epoch 186: saving model to model/keypoint_classifier\\keypoint_classifier.hdf5\n",
      "37/37 [==============================] - 0s 12ms/step - loss: 0.8019 - accuracy: 0.7017 - val_loss: 0.4150 - val_accuracy: 0.8803\n",
      "Epoch 187/1000\n",
      "33/37 [=========================>....] - ETA: 0s - loss: 0.8062 - accuracy: 0.6951\n",
      "Epoch 187: saving model to model/keypoint_classifier\\keypoint_classifier.hdf5\n",
      "37/37 [==============================] - 0s 12ms/step - loss: 0.8054 - accuracy: 0.6944 - val_loss: 0.4039 - val_accuracy: 0.8900\n",
      "Epoch 188/1000\n",
      "36/37 [============================>.] - ETA: 0s - loss: 0.7974 - accuracy: 0.6964\n",
      "Epoch 188: saving model to model/keypoint_classifier\\keypoint_classifier.hdf5\n",
      "37/37 [==============================] - 0s 13ms/step - loss: 0.7967 - accuracy: 0.6971 - val_loss: 0.4121 - val_accuracy: 0.8816\n",
      "Epoch 189/1000\n",
      "33/37 [=========================>....] - ETA: 0s - loss: 0.7846 - accuracy: 0.7150\n",
      "Epoch 189: saving model to model/keypoint_classifier\\keypoint_classifier.hdf5\n",
      "37/37 [==============================] - 0s 12ms/step - loss: 0.7886 - accuracy: 0.7139 - val_loss: 0.4146 - val_accuracy: 0.8739\n",
      "Epoch 190/1000\n",
      "33/37 [=========================>....] - ETA: 0s - loss: 0.7872 - accuracy: 0.7053\n",
      "Epoch 190: saving model to model/keypoint_classifier\\keypoint_classifier.hdf5\n",
      "37/37 [==============================] - 0s 12ms/step - loss: 0.7847 - accuracy: 0.7070 - val_loss: 0.4007 - val_accuracy: 0.8970\n",
      "Epoch 191/1000\n",
      "30/37 [=======================>......] - ETA: 0s - loss: 0.7831 - accuracy: 0.7128\n",
      "Epoch 191: saving model to model/keypoint_classifier\\keypoint_classifier.hdf5\n",
      "37/37 [==============================] - 0s 13ms/step - loss: 0.7953 - accuracy: 0.7074 - val_loss: 0.4104 - val_accuracy: 0.8829\n",
      "Epoch 192/1000\n",
      "33/37 [=========================>....] - ETA: 0s - loss: 0.8136 - accuracy: 0.7017\n",
      "Epoch 192: saving model to model/keypoint_classifier\\keypoint_classifier.hdf5\n",
      "37/37 [==============================] - 0s 12ms/step - loss: 0.8131 - accuracy: 0.6999 - val_loss: 0.4144 - val_accuracy: 0.8912\n",
      "Epoch 193/1000\n",
      "36/37 [============================>.] - ETA: 0s - loss: 0.7952 - accuracy: 0.7055\n",
      "Epoch 193: saving model to model/keypoint_classifier\\keypoint_classifier.hdf5\n",
      "37/37 [==============================] - 0s 12ms/step - loss: 0.7936 - accuracy: 0.7068 - val_loss: 0.4107 - val_accuracy: 0.8906\n",
      "Epoch 194/1000\n",
      "33/37 [=========================>....] - ETA: 0s - loss: 0.8108 - accuracy: 0.6948\n",
      "Epoch 194: saving model to model/keypoint_classifier\\keypoint_classifier.hdf5\n",
      "37/37 [==============================] - 0s 12ms/step - loss: 0.8141 - accuracy: 0.6967 - val_loss: 0.4126 - val_accuracy: 0.8893\n",
      "Epoch 195/1000\n",
      "33/37 [=========================>....] - ETA: 0s - loss: 0.8072 - accuracy: 0.7050\n",
      "Epoch 195: saving model to model/keypoint_classifier\\keypoint_classifier.hdf5\n",
      "37/37 [==============================] - 0s 12ms/step - loss: 0.8030 - accuracy: 0.7062 - val_loss: 0.4256 - val_accuracy: 0.8797\n",
      "Epoch 196/1000\n",
      "32/37 [========================>.....] - ETA: 0s - loss: 0.8013 - accuracy: 0.6963\n",
      "Epoch 196: saving model to model/keypoint_classifier\\keypoint_classifier.hdf5\n",
      "37/37 [==============================] - 0s 12ms/step - loss: 0.7950 - accuracy: 0.7010 - val_loss: 0.4125 - val_accuracy: 0.8810\n",
      "Epoch 197/1000\n",
      "33/37 [=========================>....] - ETA: 0s - loss: 0.7836 - accuracy: 0.7029\n",
      "Epoch 197: saving model to model/keypoint_classifier\\keypoint_classifier.hdf5\n",
      "37/37 [==============================] - 0s 12ms/step - loss: 0.7851 - accuracy: 0.7042 - val_loss: 0.4159 - val_accuracy: 0.8867\n",
      "Epoch 198/1000\n",
      "36/37 [============================>.] - ETA: 0s - loss: 0.7953 - accuracy: 0.7007\n",
      "Epoch 198: saving model to model/keypoint_classifier\\keypoint_classifier.hdf5\n",
      "37/37 [==============================] - 0s 12ms/step - loss: 0.7972 - accuracy: 0.6999 - val_loss: 0.4146 - val_accuracy: 0.8810\n",
      "Epoch 199/1000\n",
      "33/37 [=========================>....] - ETA: 0s - loss: 0.8265 - accuracy: 0.6996\n",
      "Epoch 199: saving model to model/keypoint_classifier\\keypoint_classifier.hdf5\n",
      "37/37 [==============================] - 0s 12ms/step - loss: 0.8240 - accuracy: 0.6989 - val_loss: 0.4183 - val_accuracy: 0.8816\n",
      "Epoch 200/1000\n",
      "35/37 [===========================>..] - ETA: 0s - loss: 0.8088 - accuracy: 0.7040\n",
      "Epoch 200: saving model to model/keypoint_classifier\\keypoint_classifier.hdf5\n",
      "37/37 [==============================] - 0s 12ms/step - loss: 0.8123 - accuracy: 0.7034 - val_loss: 0.4132 - val_accuracy: 0.8848\n",
      "Epoch 201/1000\n",
      "36/37 [============================>.] - ETA: 0s - loss: 0.7908 - accuracy: 0.7010\n",
      "Epoch 201: saving model to model/keypoint_classifier\\keypoint_classifier.hdf5\n",
      "37/37 [==============================] - 0s 12ms/step - loss: 0.7924 - accuracy: 0.7004 - val_loss: 0.4128 - val_accuracy: 0.8861\n",
      "Epoch 202/1000\n",
      "33/37 [=========================>....] - ETA: 0s - loss: 0.7863 - accuracy: 0.7128\n",
      "Epoch 202: saving model to model/keypoint_classifier\\keypoint_classifier.hdf5\n",
      "37/37 [==============================] - 0s 12ms/step - loss: 0.7933 - accuracy: 0.7113 - val_loss: 0.4074 - val_accuracy: 0.8848\n",
      "Epoch 203/1000\n",
      "33/37 [=========================>....] - ETA: 0s - loss: 0.7877 - accuracy: 0.7140\n",
      "Epoch 203: saving model to model/keypoint_classifier\\keypoint_classifier.hdf5\n",
      "37/37 [==============================] - 0s 12ms/step - loss: 0.7903 - accuracy: 0.7120 - val_loss: 0.4050 - val_accuracy: 0.8835\n",
      "Epoch 204/1000\n",
      "34/37 [==========================>...] - ETA: 0s - loss: 0.8031 - accuracy: 0.6992\n",
      "Epoch 204: saving model to model/keypoint_classifier\\keypoint_classifier.hdf5\n",
      "37/37 [==============================] - 0s 12ms/step - loss: 0.8103 - accuracy: 0.6984 - val_loss: 0.4098 - val_accuracy: 0.8810\n",
      "Epoch 205/1000\n",
      "34/37 [==========================>...] - ETA: 0s - loss: 0.7889 - accuracy: 0.7075\n",
      "Epoch 205: saving model to model/keypoint_classifier\\keypoint_classifier.hdf5\n",
      "37/37 [==============================] - 0s 12ms/step - loss: 0.7904 - accuracy: 0.7074 - val_loss: 0.4136 - val_accuracy: 0.8764\n",
      "Epoch 206/1000\n",
      "34/37 [==========================>...] - ETA: 0s - loss: 0.7959 - accuracy: 0.7038\n",
      "Epoch 206: saving model to model/keypoint_classifier\\keypoint_classifier.hdf5\n",
      "37/37 [==============================] - 0s 12ms/step - loss: 0.7888 - accuracy: 0.7079 - val_loss: 0.4126 - val_accuracy: 0.8784\n",
      "Epoch 207/1000\n",
      "36/37 [============================>.] - ETA: 0s - loss: 0.8042 - accuracy: 0.6975\n",
      "Epoch 207: saving model to model/keypoint_classifier\\keypoint_classifier.hdf5\n",
      "37/37 [==============================] - 0s 12ms/step - loss: 0.8047 - accuracy: 0.6974 - val_loss: 0.4095 - val_accuracy: 0.8829\n",
      "Epoch 208/1000\n",
      "31/37 [========================>.....] - ETA: 0s - loss: 0.8152 - accuracy: 0.7011\n",
      "Epoch 208: saving model to model/keypoint_classifier\\keypoint_classifier.hdf5\n",
      "37/37 [==============================] - 0s 12ms/step - loss: 0.8066 - accuracy: 0.7027 - val_loss: 0.4110 - val_accuracy: 0.8861\n",
      "Epoch 209/1000\n",
      "33/37 [=========================>....] - ETA: 0s - loss: 0.7736 - accuracy: 0.6986\n",
      "Epoch 209: saving model to model/keypoint_classifier\\keypoint_classifier.hdf5\n",
      "37/37 [==============================] - 0s 11ms/step - loss: 0.7709 - accuracy: 0.6991 - val_loss: 0.4025 - val_accuracy: 0.8880\n",
      "Epoch 210/1000\n",
      "36/37 [============================>.] - ETA: 0s - loss: 0.8125 - accuracy: 0.7016\n",
      "Epoch 210: saving model to model/keypoint_classifier\\keypoint_classifier.hdf5\n",
      "37/37 [==============================] - 0s 12ms/step - loss: 0.8121 - accuracy: 0.7012 - val_loss: 0.4046 - val_accuracy: 0.8861\n",
      "Epoch 210: early stopping\n"
     ]
    },
    {
     "data": {
      "text/plain": [
       "<keras.src.callbacks.History at 0x2a863771390>"
      ]
     },
     "execution_count": 33,
     "metadata": {},
     "output_type": "execute_result"
    }
   ],
   "source": [
    "model.fit(\n",
    "    X_train,\n",
    "    y_train,\n",
    "    epochs=300,\n",
    "    batch_size=128,\n",
    "    validation_data=(X_test, y_test),\n",
    "    callbacks=[cp_callback, es_callback]\n",
    ")"
   ]
  },
  {
   "cell_type": "code",
   "execution_count": 34,
   "metadata": {
    "colab": {
     "base_uri": "https://localhost:8080/"
    },
    "id": "pxvb2Y299hE3",
    "outputId": "59eb3185-2e37-4b9e-bc9d-ab1b8ac29b7f"
   },
   "outputs": [
    {
     "name": "stdout",
     "output_type": "stream",
     "text": [
      "13/13 [==============================] - 0s 5ms/step - loss: 0.4046 - accuracy: 0.8861\n"
     ]
    }
   ],
   "source": [
    "# Model evaluation\n",
    "val_loss, val_acc = model.evaluate(X_test, y_test, batch_size=128)"
   ]
  },
  {
   "cell_type": "code",
   "execution_count": 35,
   "metadata": {
    "id": "RBkmDeUW9hE4"
   },
   "outputs": [],
   "source": [
    "# Loading the saved model\n",
    "model = tf.keras.models.load_model(model_save_path)"
   ]
  },
  {
   "cell_type": "code",
   "execution_count": 36,
   "metadata": {
    "colab": {
     "base_uri": "https://localhost:8080/"
    },
    "id": "tFz9Tb0I9hE4",
    "outputId": "1c3b3528-54ae-4ee2-ab04-77429211cbef"
   },
   "outputs": [
    {
     "name": "stdout",
     "output_type": "stream",
     "text": [
      "1/1 [==============================] - 0s 168ms/step\n",
      "[1.6715859e-01 1.8731499e-02 1.7265565e-05 7.8444904e-01 6.3546700e-03\n",
      " 4.8067028e-04 2.8980552e-05 2.2692837e-02 8.6427746e-05]\n",
      "3\n"
     ]
    }
   ],
   "source": [
    "# Inference test\n",
    "predict_result = model.predict(np.array([X_test[0]]))\n",
    "print(np.squeeze(predict_result))\n",
    "print(np.argmax(np.squeeze(predict_result)))"
   ]
  },
  {
   "cell_type": "markdown",
   "metadata": {
    "id": "S3U4yNWx9hE4"
   },
   "source": [
    "# Confusion matrix"
   ]
  },
  {
   "cell_type": "code",
   "execution_count": 37,
   "metadata": {
    "colab": {
     "base_uri": "https://localhost:8080/",
     "height": 582
    },
    "id": "AP1V6SCk9hE5",
    "outputId": "08e41a80-7a4a-4619-8125-ecc371368d19"
   },
   "outputs": [
    {
     "name": "stdout",
     "output_type": "stream",
     "text": [
      "49/49 [==============================] - 0s 4ms/step\n"
     ]
    },
    {
     "data": {
      "image/png": "[encoded data removed]",
      "text/plain": [
       "<Figure size 700x600 with 2 Axes>"
      ]
     },
     "metadata": {},
     "output_type": "display_data"
    },
    {
     "name": "stdout",
     "output_type": "stream",
     "text": [
      "Classification Report\n",
      "              precision    recall  f1-score   support\n",
      "\n",
      "           0       0.97      0.80      0.87       407\n",
      "           1       0.99      0.83      0.90       373\n",
      "           2       0.83      0.98      0.90       334\n",
      "           3       0.66      0.96      0.78        79\n",
      "           4       0.99      0.96      0.98        83\n",
      "           5       0.96      1.00      0.98        64\n",
      "           6       0.77      0.69      0.73        58\n",
      "           7       0.77      1.00      0.87       121\n",
      "           8       1.00      1.00      1.00        35\n",
      "\n",
      "    accuracy                           0.89      1554\n",
      "   macro avg       0.88      0.91      0.89      1554\n",
      "weighted avg       0.90      0.89      0.89      1554\n",
      "\n"
     ]
    }
   ],
   "source": [
    "import pandas as pd\n",
    "import seaborn as sns\n",
    "import matplotlib.pyplot as plt\n",
    "from sklearn.metrics import confusion_matrix, classification_report\n",
    "\n",
    "def print_confusion_matrix(y_true, y_pred, report=True):\n",
    "    labels = sorted(list(set(y_true)))\n",
    "    cmx_data = confusion_matrix(y_true, y_pred, labels=labels)\n",
    "    \n",
    "    df_cmx = pd.DataFrame(cmx_data, index=labels, columns=labels)\n",
    " \n",
    "    fig, ax = plt.subplots(figsize=(7, 6))\n",
    "    sns.heatmap(df_cmx, annot=True, fmt='g' ,square=False)\n",
    "    ax.set_ylim(len(set(y_true)), 0)\n",
    "    plt.show()\n",
    "    \n",
    "    if report:\n",
    "        print('Classification Report')\n",
    "        print(classification_report(y_test, y_pred))\n",
    "\n",
    "Y_pred = model.predict(X_test)\n",
    "y_pred = np.argmax(Y_pred, axis=1)\n",
    "\n",
    "print_confusion_matrix(y_test, y_pred)"
   ]
  },
  {
   "cell_type": "markdown",
   "metadata": {
    "id": "FNP6aqzc9hE5"
   },
   "source": [
    "# Convert to model for Tensorflow-Lite"
   ]
  },
  {
   "cell_type": "code",
   "execution_count": 38,
   "metadata": {
    "id": "ODjnYyld9hE6"
   },
   "outputs": [
    {
     "name": "stderr",
     "output_type": "stream",
     "text": [
      "C:\\Users\\V.Sarveshwaran\\AppData\\Local\\Programs\\Python\\Python310\\lib\\site-packages\\keras\\src\\engine\\training.py:3079: UserWarning: You are saving your model as an HDF5 file via `model.save()`. This file format is considered legacy. We recommend using instead the native Keras format, e.g. `model.save('my_model.keras')`.\n",
      "  saving_api.save_model(\n"
     ]
    }
   ],
   "source": [
    "# Save as a model dedicated to inference\n",
    "model.save(model_save_path, include_optimizer=False)"
   ]
  },
  {
   "cell_type": "code",
   "execution_count": 39,
   "metadata": {
    "colab": {
     "base_uri": "https://localhost:8080/"
    },
    "id": "zRfuK8Y59hE6",
    "outputId": "a4ca585c-b5d5-4244-8291-8674063209bb"
   },
   "outputs": [
    {
     "name": "stdout",
     "output_type": "stream",
     "text": [
      "INFO:tensorflow:Assets written to: C:\\Users\\VCF87~1.SAR\\AppData\\Local\\Temp\\tmpbrwjhes9\\assets\n"
     ]
    },
    {
     "name": "stderr",
     "output_type": "stream",
     "text": [
      "INFO:tensorflow:Assets written to: C:\\Users\\VCF87~1.SAR\\AppData\\Local\\Temp\\tmpbrwjhes9\\assets\n"
     ]
    },
    {
     "data": {
      "text/plain": [
       "6792"
      ]
     },
     "execution_count": 39,
     "metadata": {},
     "output_type": "execute_result"
    }
   ],
   "source": [
    "# Transform model (quantization)\n",
    "\n",
    "converter = tf.lite.TFLiteConverter.from_keras_model(model)\n",
    "converter.optimizations = [tf.lite.Optimize.DEFAULT]\n",
    "tflite_quantized_model = converter.convert()\n",
    "\n",
    "open(tflite_save_path, 'wb').write(tflite_quantized_model)"
   ]
  },
  {
   "cell_type": "markdown",
   "metadata": {
    "id": "CHBPBXdx9hE6"
   },
   "source": [
    "# Inference test"
   ]
  },
  {
   "cell_type": "code",
   "execution_count": 40,
   "metadata": {
    "id": "mGAzLocO9hE7"
   },
   "outputs": [],
   "source": [
    "interpreter = tf.lite.Interpreter(model_path=tflite_save_path)\n",
    "interpreter.allocate_tensors()"
   ]
  },
  {
   "cell_type": "code",
   "execution_count": 41,
   "metadata": {
    "id": "oQuDK8YS9hE7"
   },
   "outputs": [],
   "source": [
    "# Get I / O tensor\n",
    "input_details = interpreter.get_input_details()\n",
    "output_details = interpreter.get_output_details()"
   ]
  },
  {
   "cell_type": "code",
   "execution_count": 42,
   "metadata": {
    "id": "2_ixAf_l9hE7"
   },
   "outputs": [],
   "source": [
    "interpreter.set_tensor(input_details[0]['index'], np.array([X_test[0]]))"
   ]
  },
  {
   "cell_type": "code",
   "execution_count": 43,
   "metadata": {
    "colab": {
     "base_uri": "https://localhost:8080/"
    },
    "id": "s4FoAnuc9hE7",
    "outputId": "91f18257-8d8b-4ef3-c558-e9b5f94fabbf",
    "scrolled": true
   },
   "outputs": [
    {
     "name": "stdout",
     "output_type": "stream",
     "text": [
      "CPU times: total: 0 ns\n",
      "Wall time: 989 µs\n"
     ]
    }
   ],
   "source": [
    "%%time\n",
    "# Inference implementation\n",
    "interpreter.invoke()\n",
    "tflite_results = interpreter.get_tensor(output_details[0]['index'])"
   ]
  },
  {
   "cell_type": "code",
   "execution_count": 44,
   "metadata": {
    "colab": {
     "base_uri": "https://localhost:8080/"
    },
    "id": "vONjp19J9hE8",
    "outputId": "77205e24-fd00-42c4-f7b6-e06e527c2cba"
   },
   "outputs": [
    {
     "name": "stdout",
     "output_type": "stream",
     "text": [
      "[1.6715856e-01 1.8731492e-02 1.7265549e-05 7.8444904e-01 6.3546700e-03\n",
      " 4.8067028e-04 2.8980550e-05 2.2692831e-02 8.6427739e-05]\n",
      "3\n"
     ]
    }
   ],
   "source": [
    "print(np.squeeze(tflite_results))\n",
    "print(np.argmax(np.squeeze(tflite_results)))"
   ]
  }
 ],
 "metadata": {
  "accelerator": "GPU",
  "colab": {
   "collapsed_sections": [],
   "name": "keypoint_classification_EN.ipynb",
   "provenance": [],
   "toc_visible": true
  },
  "kernelspec": {
   "display_name": "Python 3 (ipykernel)",
   "language": "python",
   "name": "python3"
  },
  "language_info": {
   "codemirror_mode": {
    "name": "ipython",
    "version": 3
   },
   "file_extension": ".py",
   "mimetype": "text/x-python",
   "name": "python",
   "nbconvert_exporter": "python",
   "pygments_lexer": "ipython3",
   "version": "3.10.0"
  }
 },
 "nbformat": 4,
 "nbformat_minor": 4
}
